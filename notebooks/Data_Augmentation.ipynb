{
 "cells": [
  {
   "cell_type": "markdown",
   "metadata": {},
   "source": [
    "# Data Augmentation "
   ]
  },
  {
   "cell_type": "code",
   "execution_count": 1,
   "metadata": {},
   "outputs": [],
   "source": [
    "import os\n",
    "from PIL import Image"
   ]
  },
  {
   "cell_type": "code",
   "execution_count": 29,
   "metadata": {},
   "outputs": [
    {
     "data": {
      "text/plain": [
       "['Apple___Apple_scab',\n",
       " 'Apple___Black_rot',\n",
       " 'Apple___Cedar_apple_rust',\n",
       " 'Apple___healthy',\n",
       " 'Background_without_leaves']"
      ]
     },
     "execution_count": 29,
     "metadata": {},
     "output_type": "execute_result"
    }
   ],
   "source": [
    "# Getting all paths to images\n",
    "data_dir = [os.pardir, 'data']\n",
    "augmented_images_pth = os.path.join(*data_dir, 'Plant_leave_diseases_dataset_with_augmentation')\n",
    "augmented_images_classes = os.listdir(augmented_images_pth)\n",
    "augmented_images_classes[:5]"
   ]
  },
  {
   "cell_type": "code",
   "execution_count": 27,
   "metadata": {},
   "outputs": [
    {
     "data": {
      "text/plain": [
       "['..\\\\data\\\\Plant_leave_diseases_32',\n",
       " '..\\\\data\\\\Plant_leave_diseases_64',\n",
       " '..\\\\data\\\\Plant_leave_diseases_96']"
      ]
     },
     "execution_count": 27,
     "metadata": {},
     "output_type": "execute_result"
    }
   ],
   "source": [
    "# Preparing parent dirs for resized images\n",
    "resolutions = [(32, 32), (64, 64), (96, 96)]\n",
    "save_folders = [f'Plant_leave_diseases_{x[0]}' for x in resolutions]\n",
    "save_paths = [os.path.join(*data_dir, f) for f in save_folders]\n",
    "save_paths"
   ]
  },
  {
   "cell_type": "code",
   "execution_count": 33,
   "metadata": {},
   "outputs": [],
   "source": [
    "# Looping through all resolutions\n",
    "for r, sp in zip(resolutions, save_folders):\n",
    "    # check if parent dir exists\n",
    "    c_dir = os.path.join(*data_dir, sp) \n",
    "    if not os.path.isdir(c_dir):\n",
    "        os.mkdir(c_dir)\n",
    "\n",
    "    #looping through all classes\n",
    "    for c in augmented_images_classes:\n",
    "        new_cls_dir = os.path.join(c_dir, c)\n",
    "        aug_cls_dir = os.path.join(augmented_images_pth, c)\n",
    "        if not os.path.isdir(new_cls_dir):\n",
    "            os.mkdir(new_cls_dir)\n",
    "        \n",
    "        #looping through images\n",
    "        for img_name in os.listdir(os.path.join(augmented_images_pth, c)):\n",
    "            img = Image.open(os.path.join(aug_cls_dir, img_name)).resize(r)\n",
    "            img.save(os.path.join(new_cls_dir, img_name))"
   ]
  },
  {
   "cell_type": "code",
   "execution_count": null,
   "metadata": {},
   "outputs": [],
   "source": []
  }
 ],
 "metadata": {
  "interpreter": {
   "hash": "d53c06ab4573055b295bcdfb3b25bc2da21e5ae576a05184a9c53fc2168185ab"
  },
  "kernelspec": {
   "display_name": "Python 3.8.5 64-bit ('plant-leaf-diseases-identification-CBiGMIHu-py3.8': poetry)",
   "language": "python",
   "name": "python3"
  },
  "language_info": {
   "codemirror_mode": {
    "name": "ipython",
    "version": 3
   },
   "file_extension": ".py",
   "mimetype": "text/x-python",
   "name": "python",
   "nbconvert_exporter": "python",
   "pygments_lexer": "ipython3",
   "version": "3.8.5"
  },
  "orig_nbformat": 4
 },
 "nbformat": 4,
 "nbformat_minor": 2
}
