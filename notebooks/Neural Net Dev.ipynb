{
 "cells": [
  {
   "cell_type": "code",
   "execution_count": 22,
   "id": "4c879cb7",
   "metadata": {},
   "outputs": [],
   "source": [
    "import numpy as np\n",
    "\n",
    "from math import sqrt"
   ]
  },
  {
   "cell_type": "markdown",
   "id": "1a02e81a",
   "metadata": {},
   "source": [
    "## Overview\n",
    "\n",
    "We use this notebook to develop and test ouu basic neural net architecture. \n",
    "\n",
    "At the end of development we will compile the work into a python lib.\n",
    "\n",
    "Check list:\n",
    "- [x] Define input params (input/output nodes, learning rate, hidden nodes/layers)\n",
    "- [x] Activation functions (sigmoid and relu)\n",
    "- [ ] forward pass\n",
    "- [ ] Back prop (error calc could be another function)\n",
    "- [ ] update weights function (fun with matricies)\n",
    "- [ ] train function\n",
    "- [ ] run fiuction (for interpretation)\n",
    "\n",
    "\n",
    "We can take inspiration from the way modern ML APIs such as pytorch work and  give it a function that will define the number of hidden layers and their nodes. \n"
   ]
  },
  {
   "cell_type": "code",
   "execution_count": 45,
   "id": "c9607a51",
   "metadata": {},
   "outputs": [],
   "source": [
    "class NeuralNet(object):\n",
    "    \n",
    "    def __init__(self, input_nodes:int, output_nodes:int, hidden_layers:list, learning_rate:float):\n",
    "        \"\"\"\n",
    "        The init function for a the feedforward neural net. It initializes all the weights between each of the layers.\n",
    "        Note that all weighs will be initialized with a random value from a normal distribution.\n",
    "        \n",
    "        Args:\n",
    "            input_nodes   (int)      : number of features in the input layer. eg a 28x28 grey scale image will have 784 features\n",
    "            output_noddes (int)      : number of output classes in the given problem\n",
    "            hidden_layers (list[int]): list of integers with each representing the number of nodes in that layer\n",
    "            learning_rate (float)    : the learning rate bias to use\n",
    "            \n",
    "            Note since we intend to use ReLU as one of our activation functions we will use the He weight initialization method\n",
    "            as described in https://arxiv.org/abs/1502.01852\n",
    "        \"\"\"\n",
    "        \n",
    "        # setting vales \n",
    "        self.input_nodes = input_nodes\n",
    "        self.output_nodes = output_nodes\n",
    "        self.hidden_layers = hidden_layers\n",
    "        self.learning_rate =  learning_rate\n",
    "        \n",
    "        # Initializing input to hidden weights \n",
    "        self.weights = [self.__init_weights(self.input_nodes, self.hidden_layers[0])]\n",
    "        \n",
    "        # Initializing hidded to hidden weights \n",
    "        if len(self.hidden_layers) > 1:\n",
    "            for i in range(0, len(self.hidden_layers)-1):\n",
    "                self.weights.append(self.__init_weights(self.hidden_layers[i], self.hidden_layers[i+1]))\n",
    "                \n",
    "        # Initializing hidden to output weights\n",
    "        self.weights.append(self.__init_weights(self.hidden_layers[-1], self.output_nodes))\n",
    "    \n",
    "    @staticmethod\n",
    "    def __init_weights(inputs, outputs):\n",
    "        return np.random.normal(0.0, np.sqrt(2/inputs), (inputs, outputs))\n",
    "    \n",
    "    @staticmethod\n",
    "    def sigmoid(x):\n",
    "        return 1/(1+np.exp(x))\n",
    "    \n",
    "    @staticmethod\n",
    "    def relu(x):\n",
    "        return np.amax([x, 0])\n",
    "    \n",
    "    "
   ]
  },
  {
   "cell_type": "code",
   "execution_count": 44,
   "id": "249fc283",
   "metadata": {},
   "outputs": [
    {
     "data": {
      "text/plain": [
       "0"
      ]
     },
     "execution_count": 44,
     "metadata": {},
     "output_type": "execute_result"
    }
   ],
   "source": [
    "np.amax([0, -10])"
   ]
  }
 ],
 "metadata": {
  "kernelspec": {
   "display_name": "Python 3 (ipykernel)",
   "language": "python",
   "name": "python3"
  },
  "language_info": {
   "codemirror_mode": {
    "name": "ipython",
    "version": 3
   },
   "file_extension": ".py",
   "mimetype": "text/x-python",
   "name": "python",
   "nbconvert_exporter": "python",
   "pygments_lexer": "ipython3",
   "version": "3.8.12"
  }
 },
 "nbformat": 4,
 "nbformat_minor": 5
}
