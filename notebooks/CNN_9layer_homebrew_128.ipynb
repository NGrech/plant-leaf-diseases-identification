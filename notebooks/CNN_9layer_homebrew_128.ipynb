{
 "cells": [
  {
   "cell_type": "markdown",
   "metadata": {},
   "source": [
    "# Implementation of Homebrew Network"
   ]
  },
  {
   "cell_type": "code",
   "execution_count": null,
   "metadata": {},
   "outputs": [],
   "source": [
    "# General imports \n",
    "import sys\n",
    "import os \n",
    "sys.path.insert(1, os.path.join(os.pardir, 'src'))\n",
    "from itertools import product\n",
    "\n",
    "# Data imports\n",
    "import cv2\n",
    "import plotly.express as px\n",
    "import numpy as np\n",
    "import mlflow\n",
    "import matplotlib.pyplot as plt\n",
    "\n",
    "# Homebrew imports \n",
    "import model\n",
    "from utils import one_hot_encode_index\n",
    "from optimizers import Adam\n",
    "from activations import Softmax, ReLU\n",
    "from layers import Dropout, LinearLayer, ConvolutionLayer, PoolingLayer, FlattenLayer\n",
    "from loss import CategoricalCrossEntropyLoss\n",
    "\n",
    "## TESTING \n",
    "import importlib\n",
    "importlib.reload(model)\n",
    "##"
   ]
  },
  {
   "cell_type": "markdown",
   "metadata": {},
   "source": [
    "## Data loader"
   ]
  },
  {
   "cell_type": "code",
   "execution_count": 11,
   "metadata": {},
   "outputs": [],
   "source": [
    "def load_set(pth):\n",
    "    X = []\n",
    "    y = []\n",
    "\n",
    "    for _class in os.listdir(pth):\n",
    "        for img_name in os.listdir(os.path.join(pth, _class)):\n",
    "            img = cv2.imread(os.path.join(pth, _class, img_name), cv2.IMREAD_GRAYSCALE)\n",
    "            X.append(img)\n",
    "            y.append(_class)\n",
    "\n",
    "    X = np.array(X)\n",
    "\n",
    "    # Normalizing \n",
    "    X = (X - np.mean(X))/ np.mean(X)\n",
    "\n",
    "    # Vectorizing X\n",
    "    X = X.reshape(X.shape[0], -1)\n",
    "\n",
    "    # encoding y\n",
    "    class_lbl_to_int = dict([(y, i) for i, y in enumerate(sorted(set(y)))])\n",
    "    y = np.array([class_lbl_to_int[_y] for _y in y]).astype(np.uint8)\n",
    "    y = one_hot_encode_index(y, len(class_lbl_to_int))\n",
    "\n",
    "    # shuffling \n",
    "    keys = np.array(range(X.shape[0]))\n",
    "    np.random.shuffle(keys)\n",
    "    X = X[keys]\n",
    "    y = y[keys]\n",
    "\n",
    "\n",
    "    return X, y\n",
    "\n",
    "\n",
    "def load_plant_data(resolution=32):\n",
    "    base_dir = os.path.join(os.pardir, 'data', f'Plant_leave_diseases_{resolution}')\n",
    "    train_dir = os.path.join(base_dir, 'train')\n",
    "    validation_dir = os.path.join(base_dir, 'validation')\n",
    "\n",
    "    # loading train data \n",
    "    X_train, y_train = load_set(train_dir)\n",
    "\n",
    "    # loading validation data \n",
    "    X_validation, y_validation = load_set(validation_dir)\n",
    "\n",
    "    return X_train, y_train, X_validation, y_validation\n"
   ]
  },
  {
   "cell_type": "markdown",
   "metadata": {},
   "source": [
    "## Setting up experiments"
   ]
  },
  {
   "cell_type": "code",
   "execution_count": 13,
   "metadata": {},
   "outputs": [],
   "source": [
    "# Parimiters to test \n",
    "resolutions = [32]\n",
    "leanring_rate = [0.001, 0.002]\n",
    "decay = [1e-4, 1e-3]\n",
    "dropout = [0.2, 0.9, 0.5]\n",
    "configs = [{\n",
    "    'resolution': cfg[0],\n",
    "    'learning_rate': cfg[1],\n",
    "    'decay': cfg[2],\n",
    "    'dropout': cfg[3],\n",
    "    'max_epochs': 200\n",
    "    \n",
    "} for cfg in product(resolutions, leanring_rate, decay, dropout)]"
   ]
  },
  {
   "cell_type": "code",
   "execution_count": null,
   "metadata": {},
   "outputs": [],
   "source": [
    "mlflow.set_experiment(\"Plant Leaf Disease\")\n",
    "\n",
    "X_train, y_train, X_validation, y_validation = load_plant_data()\n",
    "\n",
    "for config in configs:\n",
    "    \n",
    "    # initialize model \n",
    "    mdl = model.Model(Adam(learning_rate=config['learning_rate'], decay=config['decay']),\n",
    "                      CategoricalCrossEntropyLoss())\n",
    "\n",
    "    # Config early stop \n",
    "    mdl.add_early_stop(25)\n",
    "\n",
    "    # Defining architecture \n",
    "    mdl.set_sequence([\n",
    "                ConvolutionLayer(3, 32, 3),\n",
    "                ReLU(),\n",
    "                PoolingLayer(32, 2),\n",
    "                ReLU(),\n",
    "                ConvolutionLayer(32, 16, 1),\n",
    "                ConvolutionLayer(16, 16, 3),\n",
    "                ReLU(),\n",
    "                PoolingLayer(16, 2),\n",
    "                ReLU(),\n",
    "                ConvolutionLayer(16, 8, 1),\n",
    "                ReLU(),\n",
    "                FlattenLayer(),\n",
    "                LinearLayer(8 * 28 * 28, 1568),\n",
    "                ReLU(),\n",
    "                Dropout(0.5),\n",
    "                LinearLayer(1568, 128),\n",
    "                ReLU(),\n",
    "                LinearLayer(128, 10),\n",
    "                Softmax()\n",
    "                    ])\n",
    "\n",
    "\n",
    "    with mlflow.start_run():\n",
    "        mlflow.log_param('framework', 'homebrew')\n",
    "        mlflow.log_param('data_split', '90/10')\n",
    "        mlflow.log_param('type', 'FFNN')\n",
    "        mlflow.log_params(config)\n",
    "        mdl.train(X_train, y_train, epochs=config['max_epochs'], batch_size=64, validation=(X_validation, y_validation))\n",
    "        "
   ]
  },
  {
   "cell_type": "code",
   "execution_count": null,
   "metadata": {},
   "outputs": [],
   "source": []
  }
 ],
 "metadata": {
  "interpreter": {
   "hash": "d53c06ab4573055b295bcdfb3b25bc2da21e5ae576a05184a9c53fc2168185ab"
  },
  "kernelspec": {
   "display_name": "Python 3.8.5 64-bit ('plant-leaf-diseases-identification-CBiGMIHu-py3.8': poetry)",
   "language": "python",
   "name": "python3"
  },
  "language_info": {
   "codemirror_mode": {
    "name": "ipython",
    "version": 3
   },
   "file_extension": ".py",
   "mimetype": "text/x-python",
   "name": "python",
   "nbconvert_exporter": "python",
   "pygments_lexer": "ipython3",
   "version": "3.9.7"
  },
  "orig_nbformat": 4
 },
 "nbformat": 4,
 "nbformat_minor": 2
}
