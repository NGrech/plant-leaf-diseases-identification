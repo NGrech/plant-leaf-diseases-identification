{
 "cells": [
  {
   "cell_type": "markdown",
   "metadata": {},
   "source": [
    "# Classification of Plant Leaf Diseases using MLPs (32x32 images)"
   ]
  },
  {
   "cell_type": "markdown",
   "metadata": {},
   "source": [
    "## List of experiments \n",
    "1. 3 layer MLP w/ homebrew network\n",
    "2. 3 layer MLP w/ pytorch"
   ]
  },
  {
   "cell_type": "code",
   "execution_count": 46,
   "metadata": {},
   "outputs": [],
   "source": [
    "# General imports \n",
    "import sys\n",
    "import os \n",
    "sys.path.insert(1, os.path.join(os.pardir, 'src'))\n",
    "\n",
    "# Data imports\n",
    "import cv2\n",
    "import plotly.express as px\n",
    "import numpy as np\n",
    "import mlflow\n",
    "\n",
    "# Homebrew imports \n",
    "import model\n",
    "from utils import one_hot_encode_index\n",
    "from optimizers import Adam\n",
    "from activations import Softmax, ReLU\n",
    "from layers import Dropout, LinearLayer\n",
    "from loss import CategoricalCrossEntropyLoss"
   ]
  },
  {
   "cell_type": "markdown",
   "metadata": {},
   "source": [
    "## Loading & Preprocessing Data "
   ]
  },
  {
   "cell_type": "code",
   "execution_count": 35,
   "metadata": {},
   "outputs": [],
   "source": [
    "data_path = os.path.join(os.pardir, 'data', 'Plant_leave_diseases_32')\n",
    "\n",
    "X = []\n",
    "y = []\n",
    "\n",
    "for _class in os.listdir(data_path)[:1]:\n",
    "    for img_name in os.listdir(os.path.join(data_path, _class))[:100]:\n",
    "        img = cv2.imread(os.path.join(data_path, _class, img_name), cv2.IMREAD_GRAYSCALE)\n",
    "        X.append(img)\n",
    "        y.append(_class)\n",
    "\n",
    "X = np.array(X)\n",
    "\n",
    "# Scaling X between -1, 1  \n",
    "X = (X - np.mean(X))/ np.mean(X)\n",
    "\n",
    "# Vectorizing X\n",
    "X = X.reshape(X.shape[0], -1)\n",
    "\n",
    "# encoding y\n",
    "class_lbl_to_int = dict([(y, i) for i, y in enumerate(sorted(set(y)))])\n",
    "y = np.array([class_lbl_to_int[_y] for _y in y]).astype(np.uint8)\n",
    "y = one_hot_encode_index(y, len(class_lbl_to_int))\n"
   ]
  },
  {
   "cell_type": "markdown",
   "metadata": {},
   "source": [
    "## Shuffling & splitting data\n",
    "\n",
    "Since the data is large we will use a random 90,5,5 split for training, validation and testing respectively "
   ]
  },
  {
   "cell_type": "code",
   "execution_count": 44,
   "metadata": {},
   "outputs": [],
   "source": [
    "n_samples = X.shape[0]\n",
    "keys = np.array(range(X.shape[0]))\n",
    "np.random.shuffle(keys)\n",
    "\n",
    "train_keys = keys[:int(n_samples*0.9)]\n",
    "validation_keys = keys[int(n_samples*0.9):int(n_samples*0.9 + n_samples*0.05)]\n",
    "test_keys = keys[int(n_samples*0.9 + n_samples*0.05):]\n",
    "\n",
    "X_train = X[train_keys]\n",
    "X_val = X[validation_keys]\n",
    "X_test = X[test_keys]\n",
    "\n",
    "y_train = y[train_keys]\n",
    "y_val = y[validation_keys]\n",
    "y_test = y[test_keys]"
   ]
  },
  {
   "cell_type": "markdown",
   "metadata": {},
   "source": [
    "## 3 Layer MLP - Homebrew"
   ]
  },
  {
   "cell_type": "code",
   "execution_count": 45,
   "metadata": {},
   "outputs": [],
   "source": [
    "# Set up optimizer and Loss objects \n",
    "cce_loss = CategoricalCrossEntropyLoss()\n",
    "optimizer = Adam(decay=5e-5)\n",
    "\n",
    "# initialize model \n",
    "my_model = model.Model(optimizer, cce_loss)\n",
    "\n",
    "# Configuring model save path \n",
    "my_model.set_save_config(model_name='3_layer_mlp_HB', save_path=os.path.join(os.getcwd(), 'models'))\n",
    "\n",
    "# Defining architecture \n",
    "my_model.set_sequence([\n",
    "                LinearLayer(X.shape[1], 682),\n",
    "                ReLU(),\n",
    "                LinearLayer(682, 456),\n",
    "                ReLU(),\n",
    "                LinearLayer(456, len(class_lbl_to_int)),\n",
    "                Softmax()\n",
    "            ])"
   ]
  },
  {
   "cell_type": "code",
   "execution_count": null,
   "metadata": {},
   "outputs": [],
   "source": [
    "mlflow.set_experiment(experiment_name='Plant Leaf Disease')\n",
    "\n",
    "tags = {\n",
    "    'model_type':'mlp-homebrew',\n",
    "    'image_size': '32x32'\n",
    "}"
   ]
  }
 ],
 "metadata": {
  "interpreter": {
   "hash": "d53c06ab4573055b295bcdfb3b25bc2da21e5ae576a05184a9c53fc2168185ab"
  },
  "kernelspec": {
   "display_name": "Python 3.8.5 64-bit ('plant-leaf-diseases-identification-CBiGMIHu-py3.8': poetry)",
   "language": "python",
   "name": "python3"
  },
  "language_info": {
   "codemirror_mode": {
    "name": "ipython",
    "version": 3
   },
   "file_extension": ".py",
   "mimetype": "text/x-python",
   "name": "python",
   "nbconvert_exporter": "python",
   "pygments_lexer": "ipython3",
   "version": "3.8.5"
  },
  "orig_nbformat": 4
 },
 "nbformat": 4,
 "nbformat_minor": 2
}
