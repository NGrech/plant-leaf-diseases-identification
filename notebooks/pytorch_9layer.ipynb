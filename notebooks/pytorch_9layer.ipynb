{
 "cells": [
  {
   "cell_type": "code",
   "execution_count": 76,
   "id": "5b2250c7",
   "metadata": {},
   "outputs": [],
   "source": [
    "import numpy as np\n",
    "import matplotlib.pyplot as plt\n",
    "import matplotlib.cm as cm\n",
    "import time\n",
    "\n",
    "import torch\n",
    "from torchvision import datasets, transforms\n",
    "from torch.utils.data import Dataset, Subset, DataLoader\n",
    "from torch import nn, optim\n",
    "import torch.nn.functional as f\n",
    "\n",
    "import pandas as pd\n",
    "\n",
    "from sklearn.model_selection import train_test_split"
   ]
  },
  {
   "cell_type": "markdown",
   "id": "f514a30a",
   "metadata": {},
   "source": [
    "### Loading leaf data:"
   ]
  },
  {
   "cell_type": "code",
   "execution_count": null,
   "id": "9b281978",
   "metadata": {},
   "outputs": [],
   "source": [
    "# data_dir = '/...../Plant_leave_diseases_dataset_with_augmentation'\n",
    "\n",
    "E = 128  # Matrix size\n",
    "\n",
    "data_transform = transforms.Compose([\n",
    "    transforms.Resize([E, E]),\n",
    "    transforms.ToTensor()\n",
    "])\n",
    "dataset = datasets.ImageFolder(data_dir, transform=data_transform)\n",
    "\n",
    "n_classes = len(dataset.classes)\n",
    "batch_size = 64\n",
    "workers = 0\n",
    "\n",
    "# label-indice-conversions\n",
    "c_to_i = dataset.class_to_idx\n",
    "i_to_c = dict((v, h) for h, v in c_to_i.items())\n",
    "\n",
    "# Split the indices in a stratified way.\n",
    "indices = np.arange(len(dataset))\n",
    "train_indices, test_indices = train_test_split(indices, test_size=0.09514, stratify=dataset.targets)"
   ]
  },
  {
   "cell_type": "markdown",
   "id": "432e5270",
   "metadata": {},
   "source": [
    "### Make train and test datasets, loaders, images and labels"
   ]
  },
  {
   "cell_type": "code",
   "execution_count": 71,
   "id": "ef5613b8",
   "metadata": {},
   "outputs": [],
   "source": [
    "train_dataset = Subset(dataset, train_indices)\n",
    "test_dataset = Subset(dataset, test_indices)\n",
    "\n",
    "train_loader = iter(DataLoader(train_dataset, batch_size=batch_size, num_workers=workers, shuffle=False))\n",
    "test_loader = iter(DataLoader(test_dataset, batch_size=batch_size, num_workers=workers, shuffle=False))\n",
    "\n",
    "X_train, y_train = train_loader.next()\n",
    "X_test, y_test = test_loader.next()"
   ]
  },
  {
   "cell_type": "markdown",
   "id": "7169ceb9",
   "metadata": {},
   "source": [
    "### Pytorch implementation of the 9-layer net (geetharamani et.al., 2019):"
   ]
  },
  {
   "cell_type": "code",
   "execution_count": 66,
   "id": "ab62307d",
   "metadata": {},
   "outputs": [],
   "source": [
    "class Net(nn.Module):\n",
    "    def __init__(self):\n",
    "        super().__init__()\n",
    "        self.conv1 = nn.Conv2d(3, 32, 3)\n",
    "        self.poolconv1 = nn.Conv2d(32, 16, 1)\n",
    "        self.pool = nn.MaxPool2d(2, 2)\n",
    "        self.conv2 = nn.Conv2d(16, 16, 3)\n",
    "        self.poolconv2 = nn.Conv2d(16, 8, 1)\n",
    "        self.conv3 = nn.Conv2d(8, 8, 3)\n",
    "        self.fc1 = nn.Linear(8 * 28 * 28, 1568)\n",
    "        self.fc2 = nn.Linear(1568, 128)\n",
    "        self.fc3 = nn.Linear(128, n_classes)\n",
    "\n",
    "    def forward(self, x):\n",
    "        x = f.relu(self.conv1(x))\n",
    "        x = self.poolconv1(self.pool(x))\n",
    "        x = f.relu(self.conv2(x))\n",
    "        x = self.poolconv2(self.pool(x))\n",
    "        x = f.relu(self.conv3(x))\n",
    "        x = torch.flatten(x, 1)\n",
    "        x = f.relu(self.fc1(x))\n",
    "        x = f.relu(self.fc2(x))\n",
    "        x = f.relu(self.fc3(x))\n",
    "        return x\n",
    "\n",
    "model = Net()"
   ]
  },
  {
   "cell_type": "markdown",
   "id": "d068d3a0",
   "metadata": {},
   "source": [
    "### Instaniate model with training set, reset gradients, set loss fuction, and SET optimizer:"
   ]
  },
  {
   "cell_type": "code",
   "execution_count": 40,
   "id": "bbedfc52",
   "metadata": {},
   "outputs": [],
   "source": [
    "out = model(X_train)\n",
    "model.zero_grad()\n",
    "\n",
    "criterion = nn.CrossEntropyLoss()\n",
    "optimizer = optim.SGD(model.parameters(), lr=0.01, momentum=0.9)"
   ]
  },
  {
   "cell_type": "markdown",
   "id": "25825b59",
   "metadata": {},
   "source": [
    "### Train the model and save to disc:"
   ]
  },
  {
   "cell_type": "code",
   "execution_count": null,
   "id": "deb11732",
   "metadata": {},
   "outputs": [],
   "source": [
    "t0 = time.time()\n",
    "\n",
    "epochs = 10\n",
    "\n",
    "for epoch in range(epochs):\n",
    "\n",
    "    running_loss = 0.0\n",
    "\n",
    "    for i, data in enumerate(train_loader, 0):\n",
    "\n",
    "        inputs, labels = data\n",
    "\n",
    "        optimizer.zero_grad()\n",
    "\n",
    "        outputs = model(inputs)\n",
    "\n",
    "        loss = criterion(outputs, labels)\n",
    "        loss.backward()\n",
    "        optimizer.step()\n",
    "\n",
    "        di = 20\n",
    "        running_loss += loss.item()\n",
    "        if i % di == di - 1:\n",
    "            print('[%d, %5d] loss: %.3f' % (epoch + 1, i + 1, running_loss / di))\n",
    "            running_loss = 0.0\n",
    "\n",
    "print('Finished Training')\n",
    "\n",
    "t_d0 = time.time() - t0\n",
    "print('Took {} to train'.format(t_d0))\n",
    "\n",
    "print('Saving \"leaf_0.pth\"')\n",
    "torch.save(model.state_dict(), 'leaf_0.pth')"
   ]
  },
  {
   "cell_type": "markdown",
   "id": "5ed1e203",
   "metadata": {},
   "source": [
    "### Loading and testing the model on the test dataset:"
   ]
  },
  {
   "cell_type": "code",
   "execution_count": 67,
   "id": "f02b6462",
   "metadata": {},
   "outputs": [
    {
     "data": {
      "text/html": [
       "<div>\n",
       "<style scoped>\n",
       "    .dataframe tbody tr th:only-of-type {\n",
       "        vertical-align: middle;\n",
       "    }\n",
       "\n",
       "    .dataframe tbody tr th {\n",
       "        vertical-align: top;\n",
       "    }\n",
       "\n",
       "    .dataframe thead th {\n",
       "        text-align: right;\n",
       "    }\n",
       "</style>\n",
       "<table border=\"1\" class=\"dataframe\">\n",
       "  <thead>\n",
       "    <tr style=\"text-align: right;\">\n",
       "      <th></th>\n",
       "      <th>predicted</th>\n",
       "      <th>ground truth</th>\n",
       "    </tr>\n",
       "  </thead>\n",
       "  <tbody>\n",
       "    <tr>\n",
       "      <th>0</th>\n",
       "      <td>38</td>\n",
       "      <td>38</td>\n",
       "    </tr>\n",
       "    <tr>\n",
       "      <th>1</th>\n",
       "      <td>25</td>\n",
       "      <td>7</td>\n",
       "    </tr>\n",
       "    <tr>\n",
       "      <th>2</th>\n",
       "      <td>25</td>\n",
       "      <td>23</td>\n",
       "    </tr>\n",
       "    <tr>\n",
       "      <th>3</th>\n",
       "      <td>25</td>\n",
       "      <td>25</td>\n",
       "    </tr>\n",
       "    <tr>\n",
       "      <th>4</th>\n",
       "      <td>29</td>\n",
       "      <td>6</td>\n",
       "    </tr>\n",
       "    <tr>\n",
       "      <th>...</th>\n",
       "      <td>...</td>\n",
       "      <td>...</td>\n",
       "    </tr>\n",
       "    <tr>\n",
       "      <th>59</th>\n",
       "      <td>12</td>\n",
       "      <td>13</td>\n",
       "    </tr>\n",
       "    <tr>\n",
       "      <th>60</th>\n",
       "      <td>16</td>\n",
       "      <td>17</td>\n",
       "    </tr>\n",
       "    <tr>\n",
       "      <th>61</th>\n",
       "      <td>27</td>\n",
       "      <td>24</td>\n",
       "    </tr>\n",
       "    <tr>\n",
       "      <th>62</th>\n",
       "      <td>36</td>\n",
       "      <td>36</td>\n",
       "    </tr>\n",
       "    <tr>\n",
       "      <th>63</th>\n",
       "      <td>33</td>\n",
       "      <td>36</td>\n",
       "    </tr>\n",
       "  </tbody>\n",
       "</table>\n",
       "<p>64 rows × 2 columns</p>\n",
       "</div>"
      ],
      "text/plain": [
       "    predicted  ground truth\n",
       "0          38            38\n",
       "1          25             7\n",
       "2          25            23\n",
       "3          25            25\n",
       "4          29             6\n",
       "..        ...           ...\n",
       "59         12            13\n",
       "60         16            17\n",
       "61         27            24\n",
       "62         36            36\n",
       "63         33            36\n",
       "\n",
       "[64 rows x 2 columns]"
      ]
     },
     "execution_count": 67,
     "metadata": {},
     "output_type": "execute_result"
    }
   ],
   "source": [
    "model.load_state_dict(torch.load('leaf_0.pth'))\n",
    "\n",
    "# \"outputs\" conatain a list with an \"energy\"-value for each class. From this list the class with max energy is selected.\n",
    "outputs = model(X_test)\n",
    "_, predicted = torch.max(outputs, 1)\n",
    "\n",
    "# Make a ground truth.\n",
    "al = []\n",
    "for i in range(len(y_test)):\n",
    "    al.append(y_test.numpy()[i])\n",
    "\n",
    "# Make a table with predicted and add gound truth.\n",
    "df = pd.DataFrame({'predicted': predicted})\n",
    "df['ground truth'] = al\n",
    "df"
   ]
  },
  {
   "cell_type": "markdown",
   "id": "9256107e",
   "metadata": {},
   "source": [
    "### Accuracy for the full test data set:"
   ]
  },
  {
   "cell_type": "code",
   "execution_count": null,
   "id": "6cece244",
   "metadata": {},
   "outputs": [],
   "source": [
    "correct = 0\n",
    "total = 0\n",
    "with torch.no_grad():\n",
    "    for data in test_loader:\n",
    "        images, labels = data\n",
    "        outputs = model(images)\n",
    "        _, predicted = torch.max(outputs.data, 1)\n",
    "        total += labels.size(0)\n",
    "        correct += (predicted == labels).sum().item()\n",
    "\n",
    "print('Accuracy of the network on the 10000 test images: %d %%' % (\n",
    "        100 * correct / total))"
   ]
  },
  {
   "cell_type": "markdown",
   "id": "4596a3a1",
   "metadata": {},
   "source": [
    "### Accuracy for each class:"
   ]
  },
  {
   "cell_type": "code",
   "execution_count": null,
   "id": "f0ec30a3",
   "metadata": {},
   "outputs": [],
   "source": [
    "correct_pred = {classname: 0 for classname in tuple(dataset.classes)}\n",
    "total_pred = {classname: 0 for classname in tuple(dataset.classes)}\n",
    "\n",
    "with torch.no_grad():\n",
    "    for data in test_loader:\n",
    "        images, labels = data\n",
    "        outputs = model(images)\n",
    "        _, predictions = torch.max(outputs, 1)\n",
    "        for label, prediction in zip(labels, predictions):\n",
    "            if label == prediction:\n",
    "                correct_pred[dataset.classes[label]] += 1\n",
    "            total_pred[dataset.classes[label]] += 1\n",
    "\n",
    "# print accuracy for each class\n",
    "for classname, correct_count in correct_pred.items():\n",
    "    accuracy = 100 * float(correct_count) / total_pred[classname]\n",
    "    print(\"{:.1f}%: {:.0f}, {:5s}\".format(accuracy, c_to_i[classname], classname))"
   ]
  }
 ],
 "metadata": {
  "kernelspec": {
   "display_name": "Python 3 (ipykernel)",
   "language": "python",
   "name": "python3"
  },
  "language_info": {
   "codemirror_mode": {
    "name": "ipython",
    "version": 3
   },
   "file_extension": ".py",
   "mimetype": "text/x-python",
   "name": "python",
   "nbconvert_exporter": "python",
   "pygments_lexer": "ipython3",
   "version": "3.9.7"
  }
 },
 "nbformat": 4,
 "nbformat_minor": 5
}
