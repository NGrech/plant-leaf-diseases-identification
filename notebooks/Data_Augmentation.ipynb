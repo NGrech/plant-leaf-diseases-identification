{
 "cells": [
  {
   "cell_type": "markdown",
   "metadata": {},
   "source": [
    "# Data Augmentation "
   ]
  },
  {
   "cell_type": "code",
   "execution_count": 1,
   "metadata": {},
   "outputs": [],
   "source": [
    "import os\n",
    "import numpy as np\n",
    "from PIL import Image"
   ]
  },
  {
   "cell_type": "code",
   "execution_count": 2,
   "metadata": {},
   "outputs": [],
   "source": [
    "def resize_img(resolution, img_pth, save_pth):\n",
    "    img = Image.open(img_pth).resize(resolution)\n",
    "    img.save(save_pth)"
   ]
  },
  {
   "cell_type": "code",
   "execution_count": 9,
   "metadata": {},
   "outputs": [
    {
     "data": {
      "text/plain": [
       "'/Users/petermagnusson/Documents/data/courses to study/malmö universitet/3 ht2021/120p 2yrs MSc copmuter science - applied data science/course AI for data science/project/leaf/data/Plant_leave_diseases_dataset_with_augmentation'"
      ]
     },
     "execution_count": 9,
     "metadata": {},
     "output_type": "execute_result"
    }
   ],
   "source": [
    "data_dir = os.path.join(os.pardir, 'data')\n",
    "root = os.path.join(data_dir, 'Plant_leave_diseases_dataset_with_augmentation')\n",
    "resolutions = [(32, 32)] # Change as needed\n",
    "\n",
    "root = '/Users/petermagnusson/Documents/data/courses to study/malmö universitet/3 ht2021/120p 2yrs MSc copmuter science - applied data science/course AI for data science/project/leaf/data/Plant_leave_diseases_dataset_with_augmentation'\n",
    "\n",
    "root"
   ]
  },
  {
   "cell_type": "code",
   "execution_count": null,
   "metadata": {},
   "outputs": [],
   "source": [
    "for cls in os.listdir(root):\n",
    "    cls_dir = os.path.join(root, cls)\n",
    "    \n",
    "    imgs = np.array(os.listdir(cls_dir))\n",
    "    n_samples = len(imgs)\n",
    "    keys = np.array(range(n_samples))\n",
    "    np.random.shuffle(keys)\n",
    "\n",
    "    for resolution in resolutions:\n",
    "        resolution_dir = os.path.join(data_dir, f'Plant_leave_diseases_{resolution[0]}')\n",
    "        \n",
    "        # Set up training directory \n",
    "        train_dir = os.path.join(resolution_dir, 'train')\n",
    "        class_dir = os.path.join(train_dir, cls)\n",
    "        if not os.path.isdir(train_dir):\n",
    "            os.makedirs(train_dir)\n",
    "        if not os.path.isdir(class_dir):\n",
    "            os.makedirs(class_dir)\n",
    "        \n",
    "        for train_key in keys[:int(n_samples*0.9)]:\n",
    "            img_pth = os.path.join(cls_dir, imgs[train_key])\n",
    "            save_pth = os.path.join(class_dir, imgs[train_key])\n",
    "            resize_img(resolution, img_pth, save_pth)\n",
    "        \n",
    "        # Set up Validation directory \n",
    "        validation_dir = os.path.join(resolution_dir, 'validation')\n",
    "        class_dir = os.path.join(validation_dir, cls)\n",
    "        if not os.path.isdir(validation_dir):\n",
    "            os.makedirs(validation_dir)\n",
    "        if not os.path.isdir(class_dir):\n",
    "            os.makedirs(class_dir)\n",
    "        \n",
    "        for validation_key in keys[int(n_samples*0.9):]:\n",
    "            img_pth = os.path.join(cls_dir, imgs[validation_key])\n",
    "            save_pth = os.path.join(class_dir, imgs[validation_key])\n",
    "            resize_img(resolution, img_pth, save_pth)\n",
    "\n",
    "        ## Only using a train validate split for current test! uncomment and adjust as needed.\n",
    "        \"\"\"\n",
    "        # Set up test directory \n",
    "        test_dir = os.path.join(resolution_dir, 'test')\n",
    "        if not os.path.isdir(test_dir):\n",
    "            os.makedirs(test_dir)\n",
    "        \n",
    "        for test_key in keys[int(n_samples*0.9):]:\n",
    "            img_pth = os.path.join(cls_dir, imgs[test_key])\n",
    "            save_pth = os.path.join(test_key, cls, imgs[test_key])\n",
    "            resize_img(resolution, img_pth, save_pth)\n",
    "        \"\"\"\n"
   ]
  }
 ],
 "metadata": {
  "interpreter": {
   "hash": "d53c06ab4573055b295bcdfb3b25bc2da21e5ae576a05184a9c53fc2168185ab"
  },
  "kernelspec": {
   "display_name": "Python 3.8.5 64-bit ('plant-leaf-diseases-identification-CBiGMIHu-py3.8': poetry)",
   "language": "python",
   "name": "python3"
  },
  "language_info": {
   "codemirror_mode": {
    "name": "ipython",
    "version": 3
   },
   "file_extension": ".py",
   "mimetype": "text/x-python",
   "name": "python",
   "nbconvert_exporter": "python",
   "pygments_lexer": "ipython3",
   "version": "3.9.7"
  },
  "orig_nbformat": 4
 },
 "nbformat": 4,
 "nbformat_minor": 2
}
