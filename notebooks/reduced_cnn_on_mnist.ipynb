{
 "cells": [
  {
   "cell_type": "code",
   "execution_count": 491,
   "metadata": {},
   "outputs": [],
   "source": [
    "import os\n",
    "import urllib\n",
    "import urllib.request\n",
    "import cv2\n",
    "import mlflow\n",
    "\n",
    "import numpy as np\n",
    "import matplotlib.pyplot as plt\n",
    "import matplotlib.cm as cm\n",
    "import mlflow\n",
    "\n",
    "from zipfile import ZipFile\n",
    "import sys\n",
    "# sys.path.append(r'../src')\n",
    "import importlib\n",
    "\n",
    "import model\n",
    "import layers\n",
    "import activations\n",
    "\n",
    "from utils import one_hot_encode_index\n",
    "from optimizers import Adam\n",
    "from activations import Softmax, ReLU\n",
    "from layers import Dropout, LinearLayer, ConvolutionLayer, PoolingLayer, FlattenLayer\n",
    "from loss import CategoricalCrossEntropyLoss\n",
    "\n",
    "def nsgpmnet_reloads():\n",
    "\n",
    "    importlib.reload(model)\n",
    "    importlib.reload(layers)\n",
    "    importlib.reload(activations)\n",
    "\n",
    "nsgpmnet_reloads()"
   ]
  },
  {
   "cell_type": "markdown",
   "metadata": {},
   "source": [
    "### Loading MNIST-fashion-data:"
   ]
  },
  {
   "cell_type": "code",
   "execution_count": 230,
   "metadata": {},
   "outputs": [],
   "source": [
    "# Loads a MNIST dataset\n",
    "def load_mnist_dataset(dataset, path):\n",
    "    # Scan all the directories and create a list of labels\n",
    "    labels = os.listdir(os.path.join(path, dataset))\n",
    "    # Create lists for samples and labels\n",
    "    X = []\n",
    "    y = []\n",
    "    # For each label folder\n",
    "    for label in labels:\n",
    "        # And for each image in given folder\n",
    "        for file in os.listdir(os.path.join(path, dataset, label)):\n",
    "            # Read the image\n",
    "            image = cv2.imread(os.path.join(path, dataset, label, file), cv2.IMREAD_UNCHANGED)\n",
    "            # And append it and a label to the lists\n",
    "            X.append(image)\n",
    "            y.append(label)\n",
    "    # Convert the data to proper numpy arrays and return\n",
    "    return np.array(X), np.array(y).astype('uint8')\n",
    "\n",
    "\n",
    "def create_data_mnist(path):\n",
    "    # Load both sets separately\n",
    "    X, y = load_mnist_dataset('train', path)\n",
    "    X_test, y_test = load_mnist_dataset('test', path)\n",
    "    y = one_hot_encode_index(y, 10)\n",
    "    y_test = one_hot_encode_index(y_test, 10)\n",
    "    \n",
    "    # And return all the data\n",
    "    return X, y, X_test, y_test"
   ]
  },
  {
   "cell_type": "code",
   "execution_count": 239,
   "metadata": {},
   "outputs": [],
   "source": [
    "path0 = '/Users/petermagnusson/Documents/data/courses to study/malmö universitet/3 ht2021/120p 2yrs MSc copmuter science - applied data science/course AI for data science/project/leaf/data/fashion_mnist_images'\n",
    "\n",
    "X, y, X_test, y_test = create_data_mnist(path0)\n",
    "\n",
    "y_flat = y.copy()"
   ]
  },
  {
   "cell_type": "markdown",
   "metadata": {},
   "source": [
    "### Handy print fuction:"
   ]
  },
  {
   "cell_type": "code",
   "execution_count": 232,
   "metadata": {},
   "outputs": [],
   "source": [
    "def print_info(a):\n",
    "    print('shapes for inputs and outputs:')\n",
    "    print(a.shape)\n",
    "    print('(min, max) for inputs and outputs:')\n",
    "    print(np.min(a), np.max(a))"
   ]
  },
  {
   "cell_type": "markdown",
   "metadata": {},
   "source": [
    "### Shuffle Training data - on initial loaded data:"
   ]
  },
  {
   "cell_type": "code",
   "execution_count": 279,
   "metadata": {},
   "outputs": [],
   "source": [
    "keys = np.array(range(X.shape[0]))\n",
    "np.random.shuffle(keys)\n",
    "X = X[keys]\n",
    "y = y[keys]\n",
    "y_flat = y_flat[keys]"
   ]
  },
  {
   "cell_type": "markdown",
   "metadata": {},
   "source": [
    "### Reshaping data for cnn-model: "
   ]
  },
  {
   "cell_type": "code",
   "execution_count": 293,
   "metadata": {},
   "outputs": [],
   "source": [
    "def add_channles(v):\n",
    "    return np.expand_dims(v, axis=1)\n",
    "\n",
    "X_chns = add_channles(X)\n",
    "X_chns_test = add_channles(X_test)\n",
    "\n",
    "# Truncate to fewer images for integration and timing testing.\n",
    "# Remembner that the test-set as it is now becomes the same size as the traning set.\n",
    "tval = 59904 # 200, 59968 (for batch_size=64), 59904 (for batch_size=128) 9984, 1024, 2048\n",
    "X_chns = X_chns[:tval, :, :]\n",
    "X_chns_test = X_chns_test[:tval, :, :]\n",
    "\n",
    "# print_info(X)\n",
    "# print_info(X_chns)\n",
    "# print_info(X_chns_test)"
   ]
  },
  {
   "cell_type": "markdown",
   "metadata": {},
   "source": [
    "### Scaling between -1 and 1 - cnn-model"
   ]
  },
  {
   "cell_type": "code",
   "execution_count": 294,
   "metadata": {},
   "outputs": [],
   "source": [
    "def scale_img(v):\n",
    "    return (v - 127.5) /127.5\n",
    "\n",
    "X_chns = scale_img(X_chns)\n",
    "X_chns_test = scale_img(X_chns_test)"
   ]
  },
  {
   "cell_type": "markdown",
   "metadata": {},
   "source": [
    "### Shuffle Training data - cnn-model - after truncation:"
   ]
  },
  {
   "cell_type": "code",
   "execution_count": 448,
   "metadata": {},
   "outputs": [],
   "source": [
    "keys = np.array(range(X_chns.shape[0]))\n",
    "np.random.shuffle(keys)\n",
    "X_chns = X_chns[keys]\n",
    "y = y[keys]"
   ]
  },
  {
   "cell_type": "markdown",
   "metadata": {},
   "source": [
    "### Create a reduced cnn-model sequence:"
   ]
  },
  {
   "cell_type": "code",
   "execution_count": 467,
   "metadata": {},
   "outputs": [],
   "source": [
    "cce_loss = CategoricalCrossEntropyLoss()\n",
    "optimizer = Adam(decay=5e-5)\n",
    "my_model = model.Model(optimizer, cce_loss)\n",
    "\n",
    "my_model.set_sequence([\n",
    "                ConvolutionLayer(1, 1, 3),\n",
    "                FlattenLayer(),\n",
    "                LinearLayer(676, 128),\n",
    "                ReLU(),\n",
    "                Dropout(0.5),\n",
    "                LinearLayer(128, 128),\n",
    "                ReLU(),\n",
    "                LinearLayer(128, 10),\n",
    "                Softmax()\n",
    "            ])\n",
    "\n",
    "# Setting the model save path:\n",
    "path1 = '/Users/petermagnusson/VisualStudioCodeProjects/saved_models/model1'\n",
    "my_model.set_save_config(model_name='cnn_9_0', save_path=path1)"
   ]
  },
  {
   "cell_type": "code",
   "execution_count": null,
   "metadata": {},
   "outputs": [],
   "source": [
    "print_info(X)\n",
    "print_info(X_chns)"
   ]
  },
  {
   "cell_type": "markdown",
   "metadata": {},
   "source": [
    "### Train with the reduced cnn-model, optional monitoring with MLflow:"
   ]
  },
  {
   "cell_type": "code",
   "execution_count": null,
   "metadata": {},
   "outputs": [],
   "source": [
    "import time\n",
    "\n",
    "mlflow.set_experiment(experiment_name='MNIST Fashion reduced conv')\n",
    "\n",
    "t0 = time.time()\n",
    "\n",
    "# my_model.train(X_chns, y, epochs=1, batch_size=8, log_freq=8, validation=(X_chns_test, y_test))\n",
    "my_model.train(X_chns, y, epochs=10, batch_size=128, log_freq=100, validation=(X_chns_test, y_test))\n",
    "\n",
    "t_d0 = time.time() - t0\n",
    "print('Took {}'.format(t_d0))\n",
    "\n",
    "# with mlflow.start_run():\n",
    "#     my_model.train(X_chns, y, epochs=10, batch_size=128, log_freq=100, validation=(X_chns_test, y_test))"
   ]
  },
  {
   "cell_type": "markdown",
   "metadata": {},
   "source": [
    "### Validate the cnn-model with the test-set:"
   ]
  },
  {
   "cell_type": "code",
   "execution_count": null,
   "metadata": {},
   "outputs": [],
   "source": [
    "my_model.evaluate(X_chns_test, y_test, 64)"
   ]
  },
  {
   "cell_type": "markdown",
   "metadata": {},
   "source": [
    "### Display"
   ]
  },
  {
   "cell_type": "code",
   "execution_count": 470,
   "metadata": {},
   "outputs": [
    {
     "data": {
      "image/png": "[encoded data removed]",
      "text/plain": [
       "<Figure size 504x504 with 4 Axes>"
      ]
     },
     "metadata": {
      "needs_background": "light"
     },
     "output_type": "display_data"
    }
   ],
   "source": [
    "fig, ax = plt.subplots(figsize=(7.00, 7.00), ncols=2, nrows=2)\n",
    "# fig, ax = plt.subplots()\n",
    "# ax.imshow(c[0, 0, :, :], cmap=cm.gray)\n",
    "ax[0, 0].imshow(X_chns[int(np.random.randint(0, 200)), 0, :, :], cmap=cm.gray)\n",
    "ax[0, 1].imshow(X_chns[123, 0, :, :], cmap=cm.gray)\n",
    "# ax[1, 0].imshow(pool1.dinputs[0, 0, :, :], cmap=cm.gray)\n",
    "# ax[1, 1].imshow(conv1.outputs[0, 1, :, :], cmap=cm.gray)\n",
    "plt.show()"
   ]
  },
  {
   "cell_type": "markdown",
   "metadata": {},
   "source": [
    "### Retreive org. data and flatten for ffnn model:"
   ]
  },
  {
   "cell_type": "code",
   "execution_count": 288,
   "metadata": {},
   "outputs": [],
   "source": [
    "def vectorize(v):\n",
    "    return v.reshape(v.shape[0], -1)\n",
    "\n",
    "X_flat = vectorize(X)\n",
    "X_flat_test = vectorize(X_test)\n",
    "\n",
    "# print_info(X)\n",
    "# print_info(X_flat)"
   ]
  },
  {
   "cell_type": "markdown",
   "metadata": {},
   "source": [
    "### Trucate for ffnn model:"
   ]
  },
  {
   "cell_type": "code",
   "execution_count": 201,
   "metadata": {},
   "outputs": [],
   "source": [
    "# Truncate to fewer images for integration and timing testing.\n",
    "# Remember that the test-set as it is now becomes the same size as the traning set.\n",
    "tval = 9984 # 200, 59968, 9984, 1024, 2048\n",
    "X_flat = X_flat[:tval, :]\n",
    "X_flat_test = X_flat_test[:tval, :]"
   ]
  },
  {
   "cell_type": "markdown",
   "metadata": {},
   "source": [
    "### Scaling between -1 and 1 - ffnn model"
   ]
  },
  {
   "cell_type": "code",
   "execution_count": 289,
   "metadata": {},
   "outputs": [],
   "source": [
    "def scale_img(v):\n",
    "    return (v - 127.5) /127.5\n",
    "\n",
    "X_flat = scale_img(X_flat)\n",
    "X_flat_test = scale_img(X_flat_test)"
   ]
  },
  {
   "cell_type": "markdown",
   "metadata": {},
   "source": [
    "### Shuffle training data - ffnn model:"
   ]
  },
  {
   "cell_type": "code",
   "execution_count": 441,
   "metadata": {},
   "outputs": [],
   "source": [
    "keys = np.array(range(X_flat.shape[0]))\n",
    "np.random.shuffle(keys)\n",
    "X_flat = X_flat[keys]\n",
    "y_flat = y_flat[keys]\n",
    "\n",
    "# print_info(X)\n",
    "# print_info(X_flat)\n",
    "# print_info(y_flat)"
   ]
  },
  {
   "cell_type": "markdown",
   "metadata": {},
   "source": [
    "### Create a sequence for ffnn model:"
   ]
  },
  {
   "cell_type": "code",
   "execution_count": 492,
   "metadata": {},
   "outputs": [],
   "source": [
    "cce_loss = CategoricalCrossEntropyLoss()\n",
    "optimizer = Adam(decay=5e-5)\n",
    "\n",
    "naive_model = model.Model(optimizer, cce_loss)\n",
    "\n",
    "naive_model.set_sequence([\n",
    "                LinearLayer(X_flat.shape[1], 128),\n",
    "                ReLU(),\n",
    "                Dropout(0.5),\n",
    "                LinearLayer(128, 128),\n",
    "                ReLU(),\n",
    "                LinearLayer(128, 10),\n",
    "                Softmax()\n",
    "            ])\n",
    "\n",
    "# Setting the model save path:\n",
    "path1 = '/Users/petermagnusson/VisualStudioCodeProjects/saved_models/model0'\n",
    "naive_model.set_save_config(model_name='ffnn_0', save_path=path1)"
   ]
  },
  {
   "cell_type": "markdown",
   "metadata": {},
   "source": [
    "### Train with the ffnn model, optional monitoring with MLflow:"
   ]
  },
  {
   "cell_type": "code",
   "execution_count": null,
   "metadata": {},
   "outputs": [],
   "source": [
    "import time\n",
    "\n",
    "mlflow.set_experiment(experiment_name='Naive Model')\n",
    "\n",
    "t0 = time.time()\n",
    "\n",
    "# naive_model.train(X_flat, y_flat, epochs=1, batch_size=8, log_freq=32, validation=(X_flat_test, y_test))\n",
    "naive_model.train(X_flat, y_flat, epochs=10, batch_size=128, log_freq=100, validation=(X_flat_test, y_test))\n",
    "\n",
    "t_d0 = time.time() - t0\n",
    "print('Took {}'.format(t_d0))\n",
    "\n",
    "# with mlflow.start_run():\n",
    "#     naive_model.train(X_flat, y_flat, epochs=10, batch_size=128, log_freq=100, validation=(X_flat_test, y_test))\n"
   ]
  },
  {
   "cell_type": "code",
   "execution_count": null,
   "metadata": {},
   "outputs": [],
   "source": []
  }
 ],
 "metadata": {
  "interpreter": {
   "hash": "d53c06ab4573055b295bcdfb3b25bc2da21e5ae576a05184a9c53fc2168185ab"
  },
  "kernelspec": {
   "display_name": "Python 3.8.12 64-bit ('plant-leaf-diseases-identification-CBiGMIHu-py3.8': poetry)",
   "language": "python",
   "name": "python3"
  },
  "language_info": {
   "codemirror_mode": {
    "name": "ipython",
    "version": 3
   },
   "file_extension": ".py",
   "mimetype": "text/x-python",
   "name": "python",
   "nbconvert_exporter": "python",
   "pygments_lexer": "ipython3",
   "version": "3.9.7"
  },
  "orig_nbformat": 4
 },
 "nbformat": 4,
 "nbformat_minor": 2
}
