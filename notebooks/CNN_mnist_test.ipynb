{
 "cells": [
  {
   "cell_type": "code",
   "execution_count": 3,
   "metadata": {},
   "outputs": [],
   "source": [
    "import os\n",
    "import urllib\n",
    "import urllib.request\n",
    "import cv2\n",
    "import mlflow\n",
    "\n",
    "import numpy as np\n",
    "import matplotlib.pyplot as plt\n",
    "import matplotlib.cm as cm\n",
    "\n",
    "from zipfile import ZipFile\n",
    "import sys\n",
    "# sys.path.append(r'../src')\n",
    "\n",
    "import model\n",
    "from utils import one_hot_encode_index\n",
    "from optimizers import Adam\n",
    "from activations import Softmax, ReLU\n",
    "from layers import Dropout, LinearLayer, ConvolutionLayer, PoolingLayer\n",
    "from loss import CategoricalCrossEntropyLoss\n"
   ]
  },
  {
   "cell_type": "markdown",
   "metadata": {},
   "source": [
    "## Loading Data"
   ]
  },
  {
   "cell_type": "code",
   "execution_count": 4,
   "metadata": {},
   "outputs": [],
   "source": [
    "# Loads a MNIST dataset\n",
    "def load_mnist_dataset(dataset, path):\n",
    "    # Scan all the directories and create a list of labels\n",
    "    labels = os.listdir(os.path.join(path, dataset))\n",
    "    # Create lists for samples and labels\n",
    "    X = []\n",
    "    y = []\n",
    "    # For each label folder\n",
    "    for label in labels:\n",
    "        # And for each image in given folder\n",
    "        for file in os.listdir(os.path.join(path, dataset, label)):\n",
    "            # Read the image\n",
    "            image = cv2.imread(os.path.join(path, dataset, label, file), cv2.IMREAD_UNCHANGED)\n",
    "            # And append it and a label to the lists\n",
    "            X.append(image)\n",
    "            y.append(label)\n",
    "    # Convert the data to proper numpy arrays and return\n",
    "    return np.array(X), np.array(y).astype('uint8')\n",
    "\n",
    "\n",
    "def create_data_mnist(path):\n",
    "    # Load both sets separately\n",
    "    X, y = load_mnist_dataset('train', path)\n",
    "    X_test, y_test = load_mnist_dataset('test', path)\n",
    "    y = one_hot_encode_index(y, 10)\n",
    "    y_test = one_hot_encode_index(y_test, 10)\n",
    "    \n",
    "    # And return all the data\n",
    "    return X, y, X_test, y_test"
   ]
  },
  {
   "cell_type": "code",
   "execution_count": 5,
   "metadata": {},
   "outputs": [],
   "source": [
    "path0 = '/Users/petermagnusson/Documents/data/courses to study/malmö universitet/3 ht2021/120p 2yrs MSc copmuter science - applied data science/course AI for data science/project/leaf/data/fashion_mnist_images'\n",
    "\n",
    "# X, y, X_test, y_test = create_data_mnist('fashion_mnist_images')\n",
    "X, y, X_test, y_test = create_data_mnist(path0)"
   ]
  },
  {
   "cell_type": "code",
   "execution_count": 6,
   "metadata": {},
   "outputs": [],
   "source": [
    "def print_info(a):\n",
    "    print('shapes for inputs and outputs:')\n",
    "    print(a.shape)\n",
    "    print('(min, max) for inputs and outputs:')\n",
    "    print(np.min(a), np.max(a))"
   ]
  },
  {
   "cell_type": "markdown",
   "metadata": {},
   "source": [
    "### Reshaping data: "
   ]
  },
  {
   "cell_type": "code",
   "execution_count": 34,
   "metadata": {},
   "outputs": [
    {
     "name": "stdout",
     "output_type": "stream",
     "text": [
      "shapes for inputs and outputs:\n",
      "(60000, 28, 28)\n",
      "(min, max) for inputs and outputs:\n",
      "0 255\n",
      "shapes for inputs and outputs:\n",
      "(60000, 1, 28, 28)\n",
      "(min, max) for inputs and outputs:\n",
      "0 255\n",
      "shapes for inputs and outputs:\n",
      "(10000, 1, 28, 28)\n",
      "(min, max) for inputs and outputs:\n",
      "0 255\n"
     ]
    }
   ],
   "source": [
    "def add_channles(v):\n",
    "    return np.expand_dims(v, axis=1)\n",
    "\n",
    "X_chns = add_channles(X)\n",
    "X_chns_test = add_channles(X_test)\n",
    "\n",
    "print_info(X)\n",
    "print_info(X_chns)\n",
    "print_info(X_chns_test)"
   ]
  },
  {
   "cell_type": "code",
   "execution_count": 35,
   "metadata": {},
   "outputs": [],
   "source": [
    "def vectorize(v):\n",
    "    return v.reshape(v.shape[0], -1)\n",
    "\n",
    "X_flat = vectorize(X)\n",
    "X_flat_test = vectorize(X_test)"
   ]
  },
  {
   "cell_type": "code",
   "execution_count": 36,
   "metadata": {},
   "outputs": [
    {
     "name": "stdout",
     "output_type": "stream",
     "text": [
      "shapes for inputs and outputs:\n",
      "(60000, 28, 28)\n",
      "(min, max) for inputs and outputs:\n",
      "0 255\n",
      "shapes for inputs and outputs:\n",
      "(60000, 784)\n",
      "(min, max) for inputs and outputs:\n",
      "0 255\n"
     ]
    }
   ],
   "source": [
    "print_info(X)\n",
    "print_info(X_flat)"
   ]
  },
  {
   "cell_type": "markdown",
   "metadata": {},
   "source": [
    "### Create a model sequence:"
   ]
  },
  {
   "cell_type": "code",
   "execution_count": 37,
   "metadata": {},
   "outputs": [],
   "source": [
    "cce_loss = CategoricalCrossEntropyLoss()\n",
    "optimizer = Adam(decay=5e-5)\n",
    "my_model = model.Model(optimizer, cce_loss)\n",
    "\n",
    "my_model.set_sequence([\n",
    "                ConvolutionLayer(1, 3)\n",
    "                # LinearLayer(X_flat.shape[1], 128),\n",
    "                # ReLU(),\n",
    "                # Dropout(0.5),\n",
    "                # LinearLayer(128, 128),\n",
    "                # ReLU(),\n",
    "                # LinearLayer(128, 10),\n",
    "                # Softmax()\n",
    "            ])"
   ]
  },
  {
   "cell_type": "code",
   "execution_count": 38,
   "metadata": {},
   "outputs": [
    {
     "name": "stdout",
     "output_type": "stream",
     "text": [
      "=== Epoch: 1 ===\n"
     ]
    },
    {
     "ename": "ValueError",
     "evalue": "shapes (78,1,28,28) and (784,128) not aligned: 28 (dim 3) != 784 (dim 0)",
     "output_type": "error",
     "traceback": [
      "\u001b[0;31m---------------------------------------------------------------------------\u001b[0m",
      "\u001b[0;31mValueError\u001b[0m                                Traceback (most recent call last)",
      "\u001b[0;32m/var/folders/hx/w3_110mn2wz26mb03mc5q0gc0000gn/T/ipykernel_85247/1250150599.py\u001b[0m in \u001b[0;36m<module>\u001b[0;34m\u001b[0m\n\u001b[0;32m----> 1\u001b[0;31m \u001b[0mmy_model\u001b[0m\u001b[0;34m.\u001b[0m\u001b[0mtrain\u001b[0m\u001b[0;34m(\u001b[0m\u001b[0mX_chns\u001b[0m\u001b[0;34m,\u001b[0m \u001b[0my\u001b[0m\u001b[0;34m,\u001b[0m \u001b[0mepochs\u001b[0m\u001b[0;34m=\u001b[0m\u001b[0;36m1\u001b[0m\u001b[0;34m,\u001b[0m \u001b[0mbatch_size\u001b[0m\u001b[0;34m=\u001b[0m\u001b[0;36m78\u001b[0m\u001b[0;34m,\u001b[0m \u001b[0mvalidation\u001b[0m\u001b[0;34m=\u001b[0m\u001b[0;34m(\u001b[0m\u001b[0mX_chns_test\u001b[0m\u001b[0;34m,\u001b[0m \u001b[0my_test\u001b[0m\u001b[0;34m)\u001b[0m\u001b[0;34m)\u001b[0m\u001b[0;34m\u001b[0m\u001b[0;34m\u001b[0m\u001b[0m\n\u001b[0m\u001b[1;32m      2\u001b[0m \u001b[0;31m# my_model.train(X_flat, y, epochs=1, batch_size=78, validation=(X_flat_test, y_test))\u001b[0m\u001b[0;34m\u001b[0m\u001b[0;34m\u001b[0m\u001b[0m\n",
      "\u001b[0;32m~/VisualStudioCodeProjects/plant-leaf-diseases-identification/notebooks/../src/model.py\u001b[0m in \u001b[0;36mtrain\u001b[0;34m(self, X, y, epochs, batch_size, log, log_freq, validation)\u001b[0m\n\u001b[1;32m    171\u001b[0m \u001b[0;34m\u001b[0m\u001b[0m\n\u001b[1;32m    172\u001b[0m                 \u001b[0;31m# Forward Pass\u001b[0m\u001b[0;34m\u001b[0m\u001b[0;34m\u001b[0m\u001b[0m\n\u001b[0;32m--> 173\u001b[0;31m                 \u001b[0mself\u001b[0m\u001b[0;34m.\u001b[0m\u001b[0mforward\u001b[0m\u001b[0;34m(\u001b[0m\u001b[0mX_batch\u001b[0m\u001b[0;34m)\u001b[0m\u001b[0;34m\u001b[0m\u001b[0;34m\u001b[0m\u001b[0m\n\u001b[0m\u001b[1;32m    174\u001b[0m \u001b[0;34m\u001b[0m\u001b[0m\n\u001b[1;32m    175\u001b[0m                 \u001b[0;31m# Loss\u001b[0m\u001b[0;34m\u001b[0m\u001b[0;34m\u001b[0m\u001b[0m\n",
      "\u001b[0;32m~/VisualStudioCodeProjects/plant-leaf-diseases-identification/notebooks/../src/model.py\u001b[0m in \u001b[0;36mforward\u001b[0;34m(self, X)\u001b[0m\n\u001b[1;32m     61\u001b[0m         \u001b[0;34m\"\"\"Handles forward pass through all layers\"\"\"\u001b[0m\u001b[0;34m\u001b[0m\u001b[0;34m\u001b[0m\u001b[0m\n\u001b[1;32m     62\u001b[0m         \u001b[0;31m# First layer\u001b[0m\u001b[0;34m\u001b[0m\u001b[0;34m\u001b[0m\u001b[0m\n\u001b[0;32m---> 63\u001b[0;31m         \u001b[0mself\u001b[0m\u001b[0;34m.\u001b[0m\u001b[0mlayers\u001b[0m\u001b[0;34m[\u001b[0m\u001b[0;36m0\u001b[0m\u001b[0;34m]\u001b[0m\u001b[0;34m.\u001b[0m\u001b[0mforward\u001b[0m\u001b[0;34m(\u001b[0m\u001b[0mX\u001b[0m\u001b[0;34m)\u001b[0m\u001b[0;34m\u001b[0m\u001b[0;34m\u001b[0m\u001b[0m\n\u001b[0m\u001b[1;32m     64\u001b[0m \u001b[0;34m\u001b[0m\u001b[0m\n\u001b[1;32m     65\u001b[0m         \u001b[0;31m# Rest of layers\u001b[0m\u001b[0;34m\u001b[0m\u001b[0;34m\u001b[0m\u001b[0m\n",
      "\u001b[0;32m~/VisualStudioCodeProjects/plant-leaf-diseases-identification/notebooks/../src/layers.py\u001b[0m in \u001b[0;36mforward\u001b[0;34m(self, inputs)\u001b[0m\n\u001b[1;32m     63\u001b[0m         \"\"\"\n\u001b[1;32m     64\u001b[0m         \u001b[0mself\u001b[0m\u001b[0;34m.\u001b[0m\u001b[0minput\u001b[0m \u001b[0;34m=\u001b[0m \u001b[0minputs\u001b[0m\u001b[0;34m\u001b[0m\u001b[0;34m\u001b[0m\u001b[0m\n\u001b[0;32m---> 65\u001b[0;31m         \u001b[0mself\u001b[0m\u001b[0;34m.\u001b[0m\u001b[0moutput\u001b[0m \u001b[0;34m=\u001b[0m \u001b[0mnp\u001b[0m\u001b[0;34m.\u001b[0m\u001b[0mdot\u001b[0m\u001b[0;34m(\u001b[0m\u001b[0minputs\u001b[0m\u001b[0;34m,\u001b[0m \u001b[0mself\u001b[0m\u001b[0;34m.\u001b[0m\u001b[0mweights\u001b[0m\u001b[0;34m)\u001b[0m \u001b[0;34m+\u001b[0m \u001b[0mself\u001b[0m\u001b[0;34m.\u001b[0m\u001b[0mbias\u001b[0m\u001b[0;34m\u001b[0m\u001b[0;34m\u001b[0m\u001b[0m\n\u001b[0m\u001b[1;32m     66\u001b[0m         \u001b[0;32mreturn\u001b[0m \u001b[0mself\u001b[0m\u001b[0;34m.\u001b[0m\u001b[0moutput\u001b[0m\u001b[0;34m\u001b[0m\u001b[0;34m\u001b[0m\u001b[0m\n\u001b[1;32m     67\u001b[0m \u001b[0;34m\u001b[0m\u001b[0m\n",
      "\u001b[0;32m<__array_function__ internals>\u001b[0m in \u001b[0;36mdot\u001b[0;34m(*args, **kwargs)\u001b[0m\n",
      "\u001b[0;31mValueError\u001b[0m: shapes (78,1,28,28) and (784,128) not aligned: 28 (dim 3) != 784 (dim 0)"
     ]
    }
   ],
   "source": [
    "my_model.train(X_chns, y, epochs=1, batch_size=78, validation=(X_chns_test, y_test))\n",
    "# my_model.train(X_flat, y, epochs=1, batch_size=78, validation=(X_flat_test, y_test))"
   ]
  },
  {
   "cell_type": "markdown",
   "metadata": {},
   "source": [
    "### Train with the model:"
   ]
  },
  {
   "cell_type": "code",
   "execution_count": null,
   "metadata": {},
   "outputs": [
    {
     "name": "stdout",
     "output_type": "stream",
     "text": [
      "=== Epoch: 1 ===\n",
      "Step: 0/469, accuracy0.000, loss16.118, learning rate 0.0010000 \n",
      "Step: 100/469, accuracy0.047, loss15.363, learning rate 0.0009950 \n",
      "Step: 200/469, accuracy0.992, loss0.149, learning rate 0.0009901 \n",
      "Step: 300/469, accuracy0.000, loss2.278, learning rate 0.0009852 \n",
      "Step: 400/469, accuracy0.000, loss2.644, learning rate 0.0009804 \n",
      "Step: 468/469, accuracy0.802, loss0.516, learning rate 0.0009771 \n",
      "Epoch: 1/10, accuracy0.603, loss2.648, learning rate 0.001\n",
      "--Validation--\n",
      "Validation : Accuracy: 0.197, Loss: 7.789\n",
      "=== Epoch: 2 ===\n",
      "Step: 0/469, accuracy0.000, loss12.470, learning rate 0.0009771 \n",
      "Step: 100/469, accuracy0.000, loss2.577, learning rate 0.0009723 \n",
      "Step: 200/469, accuracy0.000, loss2.492, learning rate 0.0009676 \n",
      "Step: 300/469, accuracy0.000, loss2.263, learning rate 0.0009630 \n",
      "Step: 400/469, accuracy0.000, loss2.306, learning rate 0.0009584 \n",
      "Step: 468/469, accuracy0.833, loss0.445, learning rate 0.0009552 \n",
      "Epoch: 2/10, accuracy0.082, loss2.406, learning rate 0.001\n",
      "--Validation--\n",
      "Validation : Accuracy: 0.196, Loss: 8.188\n",
      "=== Epoch: 3 ===\n",
      "Step: 0/469, accuracy0.000, loss12.352, learning rate 0.0009552 \n",
      "Step: 100/469, accuracy0.000, loss2.509, learning rate 0.0009507 \n",
      "Step: 200/469, accuracy0.000, loss2.435, learning rate 0.0009462 \n",
      "Step: 300/469, accuracy0.000, loss2.281, learning rate 0.0009417 \n",
      "Step: 400/469, accuracy0.000, loss2.283, learning rate 0.0009373 \n",
      "Step: 468/469, accuracy0.396, loss1.644, learning rate 0.0009343 \n",
      "Epoch: 3/10, accuracy0.094, loss2.352, learning rate 0.001\n",
      "--Validation--\n",
      "Validation : Accuracy: 0.085, Loss: 11.739\n",
      "=== Epoch: 4 ===\n",
      "Step: 0/469, accuracy0.000, loss7.279, learning rate 0.0009343 \n",
      "Step: 100/469, accuracy0.000, loss2.367, learning rate 0.0009299 \n",
      "Step: 200/469, accuracy0.000, loss2.390, learning rate 0.0009256 \n",
      "Step: 300/469, accuracy0.000, loss2.269, learning rate 0.0009214 \n",
      "Step: 400/469, accuracy0.000, loss2.266, learning rate 0.0009171 \n",
      "Step: 468/469, accuracy0.906, loss0.245, learning rate 0.0009143 \n",
      "Epoch: 4/10, accuracy0.091, loss2.272, learning rate 0.001\n",
      "--Validation--\n",
      "Validation : Accuracy: 0.100, Loss: 14.506\n",
      "=== Epoch: 5 ===\n",
      "Step: 0/469, accuracy0.000, loss14.614, learning rate 0.0009142 \n",
      "Step: 100/469, accuracy0.000, loss2.330, learning rate 0.0009101 \n",
      "Step: 200/469, accuracy0.000, loss2.402, learning rate 0.0009060 \n",
      "Step: 300/469, accuracy0.000, loss2.405, learning rate 0.0009019 \n",
      "Step: 400/469, accuracy0.000, loss2.363, learning rate 0.0008978 \n",
      "Step: 468/469, accuracy0.000, loss2.617, learning rate 0.0008951 \n",
      "Epoch: 5/10, accuracy0.058, loss2.506, learning rate 0.001\n",
      "--Validation--\n",
      "Validation : Accuracy: 0.101, Loss: 2.315\n",
      "=== Epoch: 6 ===\n",
      "Step: 0/469, accuracy0.000, loss2.351, learning rate 0.0008951 \n",
      "Step: 100/469, accuracy0.000, loss2.327, learning rate 0.0008911 \n",
      "Step: 200/469, accuracy0.000, loss2.384, learning rate 0.0008871 \n",
      "Step: 300/469, accuracy0.000, loss2.342, learning rate 0.0008832 \n",
      "Step: 400/469, accuracy0.000, loss2.332, learning rate 0.0008793 \n",
      "Step: 468/469, accuracy0.000, loss2.517, learning rate 0.0008767 \n",
      "Epoch: 6/10, accuracy0.051, loss2.341, learning rate 0.001\n",
      "--Validation--\n",
      "Validation : Accuracy: 0.101, Loss: 2.312\n",
      "=== Epoch: 7 ===\n",
      "Step: 0/469, accuracy0.000, loss2.386, learning rate 0.0008767 \n",
      "Step: 100/469, accuracy0.000, loss2.372, learning rate 0.0008728 \n",
      "Step: 200/469, accuracy0.000, loss2.385, learning rate 0.0008690 \n",
      "Step: 300/469, accuracy0.000, loss2.319, learning rate 0.0008653 \n",
      "Step: 400/469, accuracy0.000, loss2.308, learning rate 0.0008615 \n",
      "Step: 468/469, accuracy0.000, loss2.466, learning rate 0.0008590 \n",
      "Epoch: 7/10, accuracy0.036, loss2.339, learning rate 0.001\n",
      "--Validation--\n",
      "Validation : Accuracy: 0.102, Loss: 2.310\n",
      "=== Epoch: 8 ===\n",
      "Step: 0/469, accuracy0.000, loss2.399, learning rate 0.0008590 \n",
      "Step: 100/469, accuracy0.000, loss2.384, learning rate 0.0008553 \n",
      "Step: 200/469, accuracy0.000, loss2.383, learning rate 0.0008517 \n",
      "Step: 300/469, accuracy0.000, loss2.320, learning rate 0.0008481 \n",
      "Step: 400/469, accuracy0.000, loss2.304, learning rate 0.0008445 \n",
      "Step: 468/469, accuracy0.000, loss2.424, learning rate 0.0008421 \n",
      "Epoch: 8/10, accuracy0.030, loss2.337, learning rate 0.001\n",
      "--Validation--\n",
      "Validation : Accuracy: 0.103, Loss: 2.309\n",
      "=== Epoch: 9 ===\n",
      "Step: 0/469, accuracy0.000, loss2.411, learning rate 0.0008420 \n",
      "Step: 100/469, accuracy0.023, loss2.353, learning rate 0.0008385 \n",
      "Step: 200/469, accuracy0.000, loss2.384, learning rate 0.0008350 \n",
      "Step: 300/469, accuracy0.000, loss2.319, learning rate 0.0008315 \n",
      "Step: 400/469, accuracy0.000, loss2.276, learning rate 0.0008281 \n",
      "Step: 468/469, accuracy0.000, loss2.376, learning rate 0.0008258 \n",
      "Epoch: 9/10, accuracy0.056, loss2.308, learning rate 0.001\n",
      "--Validation--\n",
      "Validation : Accuracy: 0.101, Loss: 2.309\n",
      "=== Epoch: 10 ===\n",
      "Step: 0/469, accuracy0.000, loss2.400, learning rate 0.0008257 \n",
      "Step: 100/469, accuracy0.000, loss2.432, learning rate 0.0008223 \n",
      "Step: 200/469, accuracy0.000, loss2.385, learning rate 0.0008190 \n",
      "Step: 300/469, accuracy0.000, loss2.318, learning rate 0.0008156 \n",
      "Step: 400/469, accuracy0.000, loss2.292, learning rate 0.0008123 \n",
      "Step: 468/469, accuracy0.000, loss2.370, learning rate 0.0008101 \n",
      "Epoch: 10/10, accuracy0.015, loss2.335, learning rate 0.001\n",
      "--Validation--\n",
      "Validation : Accuracy: 0.101, Loss: 2.309\n"
     ]
    }
   ],
   "source": [
    "my_model.train(X_flat, y, epochs=10, batch_size=128, validation=(X_flat_test, y_test))"
   ]
  },
  {
   "cell_type": "markdown",
   "metadata": {},
   "source": [
    "### Display"
   ]
  },
  {
   "cell_type": "code",
   "execution_count": null,
   "metadata": {},
   "outputs": [
    {
     "data": {
      "image/png": "[encoded data removed]",
      "text/plain": [
       "<Figure size 504x504 with 4 Axes>"
      ]
     },
     "metadata": {
      "needs_background": "light"
     },
     "output_type": "display_data"
    }
   ],
   "source": [
    "fig, ax = plt.subplots(figsize=(7.00, 7.00), ncols=2, nrows=2)\n",
    "# fig, ax = plt.subplots()\n",
    "# ax.imshow(c[0, 0, :, :], cmap=cm.gray)\n",
    "ax[0, 0].imshow(X[int(np.random.randint(0,60000)), :, :], cmap=cm.gray)\n",
    "# ax[0, 1].imshow(pool1.outputs[0, 0, :, :], cmap=cm.gray)\n",
    "# ax[1, 0].imshow(pool1.dinputs[0, 0, :, :], cmap=cm.gray)\n",
    "# ax[1, 1].imshow(conv1.outputs[0, 1, :, :], cmap=cm.gray)\n",
    "plt.show()"
   ]
  },
  {
   "cell_type": "code",
   "execution_count": null,
   "metadata": {},
   "outputs": [],
   "source": []
  }
 ],
 "metadata": {
  "interpreter": {
   "hash": "d53c06ab4573055b295bcdfb3b25bc2da21e5ae576a05184a9c53fc2168185ab"
  },
  "kernelspec": {
   "display_name": "Python 3.8.12 64-bit ('plant-leaf-diseases-identification-CBiGMIHu-py3.8': poetry)",
   "language": "python",
   "name": "python3"
  },
  "language_info": {
   "codemirror_mode": {
    "name": "ipython",
    "version": 3
   },
   "file_extension": ".py",
   "mimetype": "text/x-python",
   "name": "python",
   "nbconvert_exporter": "python",
   "pygments_lexer": "ipython3",
   "version": "3.9.7"
  },
  "orig_nbformat": 4
 },
 "nbformat": 4,
 "nbformat_minor": 2
}
