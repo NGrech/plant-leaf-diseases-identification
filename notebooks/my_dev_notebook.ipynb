{
 "cells": [
  {
   "cell_type": "markdown",
   "id": "67ad873e",
   "metadata": {},
   "source": [
    "# Dev notebook"
   ]
  },
  {
   "cell_type": "markdown",
   "id": "0ef02f46",
   "metadata": {},
   "source": [
    "I use this notebook to develop my implementation of a simple and minimal neural network framework.\n",
    "\n",
    "Inspiration for this network is drawn from the book [Neural Networks from Scratch (NNFS)](https://nnfs.io/) & [Pytorch's implementation](https://pytorch.org/)\n",
    "\n",
    "Notes:\n",
    "- The work on experimenting with backpropagation has been moved to another notebook to keep this one minimal\n",
    "- I have chosen to use a similar naming convention to that used by pytorch (why reinvent the wheel), this has the benefit of ensuring that when we compare implementations the architecture of the networks is the same. "
   ]
  },
  {
   "cell_type": "code",
   "execution_count": 141,
   "id": "ab9fbb1d",
   "metadata": {},
   "outputs": [],
   "source": [
    "# Import for dev and testing\n",
    "import nnfs \n",
    "import numpy as np\n",
    "\n",
    "import matplotlib.pyplot as plt\n",
    "\n",
    "from abc import ABC, abstractmethod\n",
    "from nnfs.datasets import spiral_data\n",
    "\n",
    "nnfs.init()"
   ]
  },
  {
   "cell_type": "markdown",
   "id": "466662af",
   "metadata": {},
   "source": [
    "## Defining Base Module\n",
    "\n",
    "This is a module that contains all the base attributes and function needed by every class in the framework"
   ]
  },
  {
   "cell_type": "code",
   "execution_count": 142,
   "id": "52091eb2",
   "metadata": {},
   "outputs": [],
   "source": [
    "class Module(ABC):\n",
    "    \"\"\"Base class for all classes in frame work to ensure the same attributes and common function names.\"\"\"\n",
    "\n",
    "    def __init__(self) -> None:\n",
    "        # Attributes to hold input and outputs\n",
    "        self.input = None\n",
    "        self.output = None\n",
    "    \n",
    "    @abstractmethod\n",
    "    def forward(self):\n",
    "        pass\n",
    "\n",
    "    @abstractmethod\n",
    "    def backward(self):\n",
    "        pass"
   ]
  },
  {
   "cell_type": "markdown",
   "id": "85db83e2",
   "metadata": {},
   "source": [
    "##  Defining layers \n",
    "\n",
    "In this section We define and test the layers\n",
    "\n",
    "Notes:\n",
    "- since we intend to use ReLU as one of our activation functions we will use the He weight initialization method as described in https://arxiv.org/abs/1502.01852"
   ]
  },
  {
   "cell_type": "markdown",
   "id": "4f7fe0c9",
   "metadata": {},
   "source": [
    "### Linear Layer"
   ]
  },
  {
   "cell_type": "code",
   "execution_count": 143,
   "id": "48b830b5",
   "metadata": {},
   "outputs": [],
   "source": [
    "class LinearLayer(Module):\n",
    "    \"\"\"Linear transformation layer of the type o = ixW + b,\n",
    "    \n",
    "    where I is the incoming vector, W is the layers weight matrix, b is bias vector and o is the dot product of the \n",
    "    i and W plus the bias\n",
    "    \n",
    "    Args:\n",
    "        in_features (int): the size of the input features \n",
    "        out_features (int): the size of the output features\n",
    "        \n",
    "    Attributes:\n",
    "        weights (np_array) numpy array of in_features x n_neurons\n",
    "        biases  (np_array) numpy array of 1 x n_neurons\n",
    "        inputs  (np_array) numpy array of latest batch of inputs\n",
    "        inputs  (np_array) numpy array of latest batch of outputs\n",
    "        d_w     (np_array) The current gradients with respect to the weights \n",
    "        d_x     (np_array) The current gradients with respect to the inputs\n",
    "        d_b     (np_array) The current gradients with respect to the biases\n",
    "    \"\"\"\n",
    "\n",
    "    def __init__(self, in_features, out_features) -> None:\n",
    "        super().__init__()\n",
    "        # initializing weights and biases \n",
    "        #self.weights = np.random.normal(0.0, np.sqrt(2/in_features), (in_features, out_features))\n",
    "        # Using a simpler initialization  for testing \n",
    "        self.weights = 0.01 * np.random.randn(in_features, out_features)\n",
    "        self.bias = np.zeros((1, out_features))\n",
    "\n",
    "    def forward(self, inputs):\n",
    "        # Saving inputs for backward step\n",
    "        self.input = inputs\n",
    "        self.output = np.dot(inputs, self.weights) + self.bias\n",
    "        return self.output\n",
    "\n",
    "    def backward(self, d_vals):\n",
    "        \"\"\"Backpropagation  of the linear function\n",
    "\n",
    "        Args:\n",
    "            d_vals (np_array) array of derivatives from the previous layer/function.\n",
    "        \"\"\"\n",
    "        self.d_w = np.dot(self.input.T, d_vals)\n",
    "        self.d_x = np.dot(d_vals, self.weights.T)\n",
    "        self.d_b = np.sum(d_vals, axis=0, keepdims=True)\n",
    "\n",
    "\n",
    "        "
   ]
  },
  {
   "cell_type": "markdown",
   "id": "c9ea363f",
   "metadata": {},
   "source": [
    "#### Testing Linear Layer"
   ]
  },
  {
   "cell_type": "code",
   "execution_count": 144,
   "id": "d1ca4160",
   "metadata": {},
   "outputs": [
    {
     "name": "stdout",
     "output_type": "stream",
     "text": [
      "[[ 0.0000000e+00  0.0000000e+00  0.0000000e+00]\n",
      " [-1.0475188e-04  1.1395361e-04 -4.7983500e-05]\n",
      " [-2.7414842e-04  3.1729150e-04 -8.6921798e-05]\n",
      " [-4.2188365e-04  5.2666257e-04 -5.5912682e-05]\n",
      " [-5.7707680e-04  7.1401405e-04 -8.9430439e-05]\n",
      " [-3.5430698e-04  3.5025488e-04 -2.3363481e-04]\n",
      " [-8.9267001e-04  1.0767876e-03 -1.9453237e-04]\n",
      " [-9.3350781e-04  1.0723802e-03 -3.1227397e-04]\n",
      " [-1.1243758e-03  1.3112801e-03 -3.3629674e-04]\n",
      " [-1.3386955e-03  1.6200906e-03 -2.8101794e-04]]\n"
     ]
    }
   ],
   "source": [
    "# The sample data is a list of coordinate, ie two points \n",
    "# The layer therefore will take 2 inputs \n",
    "# We have given it 3 out features (3 neurons) so we expect to see an output with the shape (n_samples*n_neurons, n_neurons)\n",
    "# In out case that should be (300, 3) \n",
    "X, _ = spiral_data(samples=100, classes=3)\n",
    "linear1 = LinearLayer(2, 3)\n",
    "output = linear1.forward(X)\n",
    "print(output[:10, :])\n",
    "\n",
    "assert output.shape == (300,3)\n"
   ]
  },
  {
   "cell_type": "markdown",
   "id": "2017ad64",
   "metadata": {},
   "source": [
    "## Defining Activation Functions"
   ]
  },
  {
   "cell_type": "markdown",
   "id": "dc8da5f5",
   "metadata": {},
   "source": [
    "### ReLu\n",
    "\n",
    "$$y = \\begin{cases}\n",
    "   x &x> 0 \\\\\n",
    "   0 & otherwise\n",
    "\\end{cases} $$"
   ]
  },
  {
   "cell_type": "code",
   "execution_count": 145,
   "id": "a03d0ad1",
   "metadata": {},
   "outputs": [],
   "source": [
    "class ReLU(Module):\n",
    "    \"\"\"Applies Rectified linear Unit function to vector.\"\"\"\n",
    "    def __init__(self) -> None:\n",
    "        # initializing attributes needed for backwards \n",
    "        super().__init__()\n",
    "        self.d_relu = None\n",
    "    \n",
    "    def forward(self, x):\n",
    "        # storing inputs needed for backwards \n",
    "        self.inputs = x\n",
    "        self.outputs = np.maximum(x, 0)\n",
    "        return self.outputs\n",
    "    \n",
    "    def backward(self, d_vals):\n",
    "        self.d_relu = d_vals.copy()\n",
    "        self.d_relu[self.inputs <= 0] = 0"
   ]
  },
  {
   "cell_type": "markdown",
   "id": "fa60fd7a",
   "metadata": {},
   "source": [
    "#### Testing ReLU"
   ]
  },
  {
   "cell_type": "code",
   "execution_count": 146,
   "id": "5bea142e",
   "metadata": {},
   "outputs": [
    {
     "data": {
      "text/plain": [
       "array([0. , 3. , 4. , 0. , 0.1, 0. ])"
      ]
     },
     "execution_count": 146,
     "metadata": {},
     "output_type": "execute_result"
    }
   ],
   "source": [
    "i = [-2, 3, 4, 0, 0.1, -44]\n",
    "test_relu = ReLU()\n",
    "\n",
    "# Checking values are as expected \n",
    "assert np.all(np.array([0., 3, 4, 0, 0.1, 0.]) == test_relu.forward(i))\n",
    "\n",
    "test_relu.outputs"
   ]
  },
  {
   "cell_type": "markdown",
   "id": "5dc75ac1",
   "metadata": {},
   "source": [
    "### Softmax\n",
    "\n",
    "$$\\text{softmax}(x)_i = \\frac{exp(x_i)}{\\sum_{j}^{ }exp(x_j))}$$\n",
    "\n",
    "The soft max represents the confidence score for each output class and adds up to 1."
   ]
  },
  {
   "cell_type": "code",
   "execution_count": 147,
   "id": "966f1e26",
   "metadata": {},
   "outputs": [],
   "source": [
    "class Softmax(Module):\n",
    "    \"\"\"Applies Softmax function to input matrix.\"\"\"\n",
    "\n",
    "    def __init__(self) -> None:\n",
    "        super().__init__()\n",
    "        self.confidence_scores = None\n",
    "\n",
    "    def forward(self, x):\n",
    "        # exponenets of each value\n",
    "        exp_vals = np.exp(x - np.max(x, axis=1, keepdims=True))\n",
    "        exp_sum = np.sum(exp_vals, axis=1, keepdims=True)\n",
    "        # Normalization to get the proabilities \n",
    "        self.confidence_scores = exp_vals/exp_sum\n",
    "        return self.confidence_scores\n",
    "\n",
    "    def backward(self, d_vals):\n",
    "        # Initialize array for gradients wrt to inputs\n",
    "        self.d_soft = np.zeros_like(d_vals)\n",
    "        \n",
    "        _iter = enumerate(zip(self.confidence_scores, d_vals))\n",
    "        for i, conf_score, d_val in _iter:\n",
    "            # Flatten confidence scores\n",
    "            cs = conf_score.reshape(-1, 1)\n",
    "            # Find the Jacobian matrix of the output \n",
    "            j_matrix = np.diagflat(cs) - np.dot(cs, cs.T)\n",
    "            # get the gradient \n",
    "            self.d_soft[i] = np.dot(j_matrix, d_val)\n",
    "    \n",
    "    def backward(self, y_pred, y_true):\n",
    "        \"\"\"Does a the combined backward pass for CCE & Softmax as a single, faster step.\"\"\"\n",
    "        n = len(y_pred)\n",
    "\n",
    "        # Getting descrete vals from one hot encoding \n",
    "        y_true = np.argmax(y_true, axis=1)\n",
    "        \n",
    "        self.d_soft = y_pred.copy()\n",
    "        self.d_soft[range(n), y_true] -= 1\n",
    "        self.d_soft = self.d_soft/n\n",
    "        return self.d_soft"
   ]
  },
  {
   "cell_type": "markdown",
   "id": "91e8095e",
   "metadata": {},
   "source": [
    "#### Testing Softmax"
   ]
  },
  {
   "cell_type": "code",
   "execution_count": 148,
   "id": "c5cd2c95",
   "metadata": {},
   "outputs": [
    {
     "data": {
      "text/plain": [
       "array([[2.11513104e-19, 5.74952226e-19, 1.00000000e+00]])"
      ]
     },
     "execution_count": 148,
     "metadata": {},
     "output_type": "execute_result"
    }
   ],
   "source": [
    "softmax = Softmax()\n",
    "softmax.forward([[1,2,44]])"
   ]
  },
  {
   "cell_type": "markdown",
   "id": "ff0b31bb",
   "metadata": {},
   "source": [
    "## Defining Loss - Categorical Cross-Entropy\n",
    "\n",
    "$$ L_i = -\\sum_j y_{i,j}\\log(\\hat{y}_{i,j}) $$\n",
    "\n",
    "With taking one hot encoding into account we can simplify this down to:\n",
    "\n",
    "$$ L_i = -y_{i,k}\\log(\\hat{y}_{i,k}) $$\n",
    "\n",
    "where K is the index of the correct class"
   ]
  },
  {
   "cell_type": "code",
   "execution_count": 149,
   "id": "d7645a38",
   "metadata": {},
   "outputs": [],
   "source": [
    "class CategoricalCrossEntropyLoss:\n",
    "    \"\"\"Calculates the CCE loss for a given set of predictions.\n",
    "    This method expect a softmax output and one-hot encoded label mask\n",
    "    \n",
    "    y_pred (np_array): matrix of confidence scores of the prediction\n",
    "    y_true (np_array): matrix of one-hot encoded true lables of the classes\n",
    "    \"\"\"\n",
    "    def forward(y_pred, y_true):\n",
    "        # Clipping and applying one hot encoded labels as mask \n",
    "        # to zero out scores corresponding to incorrect classes\n",
    "        # We clip to make sure that none of the reaming classes are 0 or \n",
    "        # exactly 1 \n",
    "        corrected = np.sum(np.clip(y_pred, 1e-7, 1-1e-7)*y_true, axis=1)\n",
    "        # Taking the -ve log of the remaining confidence scores \n",
    "        negative_log = -np.log(corrected)\n",
    "        return np.mean(negative_log)\n",
    "    \n",
    "    def backward(y_pred, y_true):\n",
    "        \"\"\"Backpropagation  of the CCE Loss\n",
    "\n",
    "        Args:\n",
    "            y_pred (np_array) array of predictions.\n",
    "            y_true (np_array) array of correct labels.\n",
    "        \"\"\"\n",
    "        return (-y_true/y_pred)/len(y_pred)"
   ]
  },
  {
   "cell_type": "markdown",
   "id": "6704da26",
   "metadata": {},
   "source": [
    "#### Testing CCE Loss"
   ]
  },
  {
   "cell_type": "code",
   "execution_count": 150,
   "id": "7b0abd66",
   "metadata": {},
   "outputs": [
    {
     "data": {
      "text/plain": [
       "0.38506088005216804"
      ]
     },
     "execution_count": 150,
     "metadata": {},
     "output_type": "execute_result"
    }
   ],
   "source": [
    "y_pred = np.array([[0.7, 0.1, 0.2], [0.1,0.5,0.4],[0.02,0.9,0.08]])\n",
    "y_true = np.array([[1,0,0], [0,1,0], [0,1,0]])\n",
    "\n",
    "loss_function = CategoricalCrossEntropyLoss\n",
    "loss_function.forward(y_pred, y_true)"
   ]
  },
  {
   "cell_type": "markdown",
   "id": "8f2e97e5",
   "metadata": {},
   "source": [
    "## Defining Utility functions"
   ]
  },
  {
   "cell_type": "markdown",
   "id": "2ee48592",
   "metadata": {},
   "source": [
    "### One-hot encoding function "
   ]
  },
  {
   "cell_type": "code",
   "execution_count": 151,
   "id": "649a4d6f",
   "metadata": {},
   "outputs": [],
   "source": [
    "def one_hot_encode_index(y, n):\n",
    "    return np.eye(n)[y]"
   ]
  },
  {
   "cell_type": "markdown",
   "id": "61cfee58",
   "metadata": {},
   "source": [
    "#### Testing one hot masker"
   ]
  },
  {
   "cell_type": "code",
   "execution_count": 152,
   "id": "da547098",
   "metadata": {},
   "outputs": [
    {
     "data": {
      "text/plain": [
       "array([[1., 0., 0.],\n",
       "       [0., 1., 0.],\n",
       "       [0., 0., 1.],\n",
       "       [0., 1., 0.],\n",
       "       [0., 0., 1.]], dtype=float32)"
      ]
     },
     "execution_count": 152,
     "metadata": {},
     "output_type": "execute_result"
    }
   ],
   "source": [
    "n=3\n",
    "y_test = np.array([0,1,2, 1, 2])\n",
    "\n",
    "one_hot_encode_index(y_test, n)"
   ]
  },
  {
   "cell_type": "markdown",
   "id": "02f0c34d",
   "metadata": {},
   "source": [
    "### Define Accuracy "
   ]
  },
  {
   "cell_type": "code",
   "execution_count": 153,
   "id": "fb0b0f78",
   "metadata": {},
   "outputs": [],
   "source": [
    "def accuracy(y_pred, y_true):\n",
    "    \"\"\"Calculates the accuracy of a batch of predictions\"\"\"\n",
    "    return np.mean(np.argmax(y_pred, axis=1) == np.argmax(y_true, axis=1))"
   ]
  },
  {
   "cell_type": "markdown",
   "id": "82b81ddc",
   "metadata": {},
   "source": [
    "## Integration Testing "
   ]
  },
  {
   "cell_type": "markdown",
   "id": "1aab2afd",
   "metadata": {},
   "source": [
    "### Data initialization "
   ]
  },
  {
   "cell_type": "code",
   "execution_count": 154,
   "id": "15fc0a27",
   "metadata": {},
   "outputs": [],
   "source": [
    "X, y = spiral_data(samples=100, classes=3)\n",
    "y = one_hot_encode_index(y, 3)"
   ]
  },
  {
   "cell_type": "code",
   "execution_count": 155,
   "id": "0b157cca",
   "metadata": {},
   "outputs": [],
   "source": [
    "# Initializing Network Components \n",
    "relu = ReLU()\n",
    "softmax = Softmax()\n",
    "cce_loss = CategoricalCrossEntropyLoss\n",
    "linear1 = LinearLayer(2, 3)\n",
    "linear2 = LinearLayer(3, 3)"
   ]
  },
  {
   "cell_type": "code",
   "execution_count": 156,
   "id": "d0a90f40",
   "metadata": {},
   "outputs": [
    {
     "data": {
      "text/plain": [
       "array([[0.33333334, 0.33333334, 0.33333334],\n",
       "       [0.33333287, 0.33333397, 0.3333332 ],\n",
       "       [0.33333236, 0.33333457, 0.3333331 ],\n",
       "       [0.33333167, 0.33333546, 0.3333329 ],\n",
       "       [0.33333117, 0.33333606, 0.33333278],\n",
       "       [0.33333188, 0.33333504, 0.33333308],\n",
       "       [0.33332995, 0.3333377 , 0.3333324 ],\n",
       "       [0.33332956, 0.33333808, 0.33333236],\n",
       "       [0.3333296 , 0.33333796, 0.33333248],\n",
       "       [0.33333033, 0.33333692, 0.33333275]], dtype=float32)"
      ]
     },
     "execution_count": 156,
     "metadata": {},
     "output_type": "execute_result"
    }
   ],
   "source": [
    "# Forward Pass\n",
    "linear1.forward(X) \n",
    "relu.forward(linear1.output)\n",
    "linear2.forward(linear1.output)\n",
    "y_pred = softmax.forward(linear2.output)\n",
    "y_pred[:10, :]"
   ]
  },
  {
   "cell_type": "code",
   "execution_count": 157,
   "id": "e9c36704",
   "metadata": {},
   "outputs": [
    {
     "data": {
      "text/plain": [
       "1.0986005"
      ]
     },
     "execution_count": 157,
     "metadata": {},
     "output_type": "execute_result"
    }
   ],
   "source": [
    "# Calculating Loss\n",
    "cce_loss.forward(y_pred, y)"
   ]
  },
  {
   "cell_type": "code",
   "execution_count": 158,
   "id": "05e39779",
   "metadata": {},
   "outputs": [
    {
     "data": {
      "text/plain": [
       "0.39"
      ]
     },
     "execution_count": 158,
     "metadata": {},
     "output_type": "execute_result"
    }
   ],
   "source": [
    "# Calculating accuracy \n",
    "accuracy(y_pred, y)"
   ]
  },
  {
   "cell_type": "code",
   "execution_count": 159,
   "id": "f57209f7",
   "metadata": {},
   "outputs": [],
   "source": [
    "# Backward pass\n",
    "softmax.backward(y_pred, y)\n",
    "linear2.backward(softmax.d_soft)\n",
    "relu.backward(linear2.d_x)\n",
    "linear1.backward(relu.d_relu)"
   ]
  },
  {
   "cell_type": "code",
   "execution_count": 161,
   "id": "458c44e5",
   "metadata": {},
   "outputs": [
    {
     "name": "stdout",
     "output_type": "stream",
     "text": [
      "[[-1.1180256e-04 -2.8108768e-06 -3.9291775e-05]\n",
      " [-1.3544197e-04  2.7041102e-05  4.4713821e-04]]\n",
      "[[ 4.2581928e-04  8.3322429e-06 -1.0214525e-03]]\n",
      "[[-2.3060311e-05  1.5360911e-04 -1.3054881e-04]\n",
      " [ 3.8738308e-05  6.8804878e-04 -7.2678708e-04]\n",
      " [-1.4138591e-04  5.3566502e-04 -3.9427908e-04]]\n",
      "[[ 5.8533624e-07 -9.6648000e-07  4.0419400e-07]]\n"
     ]
    }
   ],
   "source": [
    "# Inspecting gradients\n",
    "print(linear1.d_w)\n",
    "print(linear1.d_b)\n",
    "print(linear2.d_w)\n",
    "print(linear2.d_b)"
   ]
  },
  {
   "cell_type": "code",
   "execution_count": null,
   "id": "cf83949b",
   "metadata": {},
   "outputs": [],
   "source": []
  }
 ],
 "metadata": {
  "kernelspec": {
   "display_name": "Python 3 (ipykernel)",
   "language": "python",
   "name": "python3"
  },
  "language_info": {
   "codemirror_mode": {
    "name": "ipython",
    "version": 3
   },
   "file_extension": ".py",
   "mimetype": "text/x-python",
   "name": "python",
   "nbconvert_exporter": "python",
   "pygments_lexer": "ipython3",
   "version": "3.8.12"
  }
 },
 "nbformat": 4,
 "nbformat_minor": 5
}
