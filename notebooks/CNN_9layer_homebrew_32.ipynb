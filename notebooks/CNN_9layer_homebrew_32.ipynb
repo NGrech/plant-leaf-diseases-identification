{
 "cells": [
  {
   "cell_type": "markdown",
   "metadata": {},
   "source": [
    "# Implementation of Homebrew Network"
   ]
  },
  {
   "cell_type": "code",
   "execution_count": 2,
   "metadata": {},
   "outputs": [
    {
     "ename": "NameError",
     "evalue": "name 'importlib' is not defined",
     "output_type": "error",
     "traceback": [
      "\u001b[0;31m---------------------------------------------------------------------------\u001b[0m",
      "\u001b[0;31mNameError\u001b[0m                                 Traceback (most recent call last)",
      "\u001b[0;32m/var/folders/hx/w3_110mn2wz26mb03mc5q0gc0000gn/T/ipykernel_15101/3074801424.py\u001b[0m in \u001b[0;36m<module>\u001b[0;34m\u001b[0m\n\u001b[1;32m     29\u001b[0m     \u001b[0mimportlib\u001b[0m\u001b[0;34m.\u001b[0m\u001b[0mreload\u001b[0m\u001b[0;34m(\u001b[0m\u001b[0mactivations\u001b[0m\u001b[0;34m)\u001b[0m\u001b[0;34m\u001b[0m\u001b[0;34m\u001b[0m\u001b[0m\n\u001b[1;32m     30\u001b[0m \u001b[0;34m\u001b[0m\u001b[0m\n\u001b[0;32m---> 31\u001b[0;31m \u001b[0mnsgpmnet_reloads\u001b[0m\u001b[0;34m(\u001b[0m\u001b[0;34m)\u001b[0m\u001b[0;34m\u001b[0m\u001b[0;34m\u001b[0m\u001b[0m\n\u001b[0m",
      "\u001b[0;32m/var/folders/hx/w3_110mn2wz26mb03mc5q0gc0000gn/T/ipykernel_15101/3074801424.py\u001b[0m in \u001b[0;36mnsgpmnet_reloads\u001b[0;34m()\u001b[0m\n\u001b[1;32m     25\u001b[0m \u001b[0;34m\u001b[0m\u001b[0m\n\u001b[1;32m     26\u001b[0m \u001b[0;32mdef\u001b[0m \u001b[0mnsgpmnet_reloads\u001b[0m\u001b[0;34m(\u001b[0m\u001b[0;34m)\u001b[0m\u001b[0;34m:\u001b[0m\u001b[0;34m\u001b[0m\u001b[0;34m\u001b[0m\u001b[0m\n\u001b[0;32m---> 27\u001b[0;31m     \u001b[0mimportlib\u001b[0m\u001b[0;34m.\u001b[0m\u001b[0mreload\u001b[0m\u001b[0;34m(\u001b[0m\u001b[0mmodel\u001b[0m\u001b[0;34m)\u001b[0m\u001b[0;34m\u001b[0m\u001b[0;34m\u001b[0m\u001b[0m\n\u001b[0m\u001b[1;32m     28\u001b[0m     \u001b[0mimportlib\u001b[0m\u001b[0;34m.\u001b[0m\u001b[0mreload\u001b[0m\u001b[0;34m(\u001b[0m\u001b[0mlayers\u001b[0m\u001b[0;34m)\u001b[0m\u001b[0;34m\u001b[0m\u001b[0;34m\u001b[0m\u001b[0m\n\u001b[1;32m     29\u001b[0m     \u001b[0mimportlib\u001b[0m\u001b[0;34m.\u001b[0m\u001b[0mreload\u001b[0m\u001b[0;34m(\u001b[0m\u001b[0mactivations\u001b[0m\u001b[0;34m)\u001b[0m\u001b[0;34m\u001b[0m\u001b[0;34m\u001b[0m\u001b[0m\n",
      "\u001b[0;31mNameError\u001b[0m: name 'importlib' is not defined"
     ]
    }
   ],
   "source": [
    "# General imports \n",
    "import sys\n",
    "import os \n",
    "sys.path.insert(1, os.path.join(os.pardir, 'src'))\n",
    "from itertools import product\n",
    "\n",
    "# Data imports\n",
    "import cv2\n",
    "import plotly.express as px\n",
    "import numpy as np\n",
    "import mlflow\n",
    "import matplotlib.pyplot as plt\n",
    "import matplotlib.cm as cm\n",
    "\n",
    "import importlib\n",
    "\n",
    "# Homebrew imports \n",
    "import model\n",
    "import layers\n",
    "import activations\n",
    "\n",
    "from utils import one_hot_encode_index\n",
    "from optimizers import Adam\n",
    "from activations import Softmax, ReLU\n",
    "from layers import Dropout, LinearLayer, ConvolutionLayer, PoolingLayer, FlattenLayer\n",
    "from loss import CategoricalCrossEntropyLoss\n",
    "\n",
    "def nsgpmnet_reloads():\n",
    "    importlib.reload(model)\n",
    "    importlib.reload(layers)\n",
    "    importlib.reload(activations)\n",
    "\n",
    "nsgpmnet_reloads()"
   ]
  },
  {
   "cell_type": "markdown",
   "metadata": {},
   "source": [
    "## Data loader"
   ]
  },
  {
   "cell_type": "code",
   "execution_count": 130,
   "metadata": {},
   "outputs": [],
   "source": [
    "def load_set(pth):\n",
    "    X = []\n",
    "    y = []\n",
    "\n",
    "    for _class in os.listdir(pth):\n",
    "        for img_name in os.listdir(os.path.join(pth, _class)):\n",
    "            img = cv2.imread(os.path.join(pth, _class, img_name), cv2.IMREAD_GRAYSCALE)\n",
    "            X.append(img)\n",
    "            y.append(_class)\n",
    "\n",
    "    X = np.array(X)\n",
    "\n",
    "    # Normalizing \n",
    "    X = (X - np.mean(X))/ np.mean(X)\n",
    "\n",
    "    # Vectorizing X\n",
    "    # X = X.reshape(X.shape[0], -1)\n",
    "\n",
    "    # encoding y\n",
    "    class_lbl_to_int = dict([(y, i) for i, y in enumerate(sorted(set(y)))])\n",
    "    y = np.array([class_lbl_to_int[_y] for _y in y]).astype(np.uint8)\n",
    "    y = one_hot_encode_index(y, len(class_lbl_to_int))\n",
    "\n",
    "    # shuffling \n",
    "    keys = np.array(range(X.shape[0]))\n",
    "    np.random.shuffle(keys)\n",
    "    X = X[keys]\n",
    "    y = y[keys]\n",
    "\n",
    "\n",
    "    return X, y\n",
    "\n",
    "\n",
    "def load_plant_data(resolution=32):\n",
    "    base_dir = os.path.join(os.pardir, 'data', f'Plant_leave_diseases_{resolution}')\n",
    "    train_dir = os.path.join(base_dir, 'train')\n",
    "    validation_dir = os.path.join(base_dir, 'validation')\n",
    "\n",
    "    # loading train data \n",
    "    X_train, y_train = load_set(train_dir)\n",
    "\n",
    "    # loading validation data \n",
    "    X_validation, y_validation = load_set(validation_dir)\n",
    "\n",
    "    return X_train, y_train, X_validation, y_validation\n"
   ]
  },
  {
   "cell_type": "markdown",
   "metadata": {},
   "source": [
    "### Handy print function:"
   ]
  },
  {
   "cell_type": "code",
   "execution_count": 131,
   "metadata": {},
   "outputs": [],
   "source": [
    "def print_info(a):\n",
    "    print('shapes for inputs and outputs:')\n",
    "    print(a.shape)\n",
    "    print('(min, max) for inputs and outputs:')\n",
    "    print(np.min(a), np.max(a))"
   ]
  },
  {
   "cell_type": "code",
   "execution_count": 173,
   "metadata": {},
   "outputs": [],
   "source": [
    "X_train, y_train, X_validation, y_validation = load_plant_data()\n"
   ]
  },
  {
   "cell_type": "code",
   "execution_count": 174,
   "metadata": {},
   "outputs": [
    {
     "name": "stdout",
     "output_type": "stream",
     "text": [
      "shapes for inputs and outputs:\n",
      "(55327, 32, 32)\n",
      "(min, max) for inputs and outputs:\n",
      "-1.0 1.1170970314584487\n"
     ]
    }
   ],
   "source": [
    "print_info(X_train)"
   ]
  },
  {
   "cell_type": "markdown",
   "metadata": {},
   "source": [
    "### Reshaping data:"
   ]
  },
  {
   "cell_type": "code",
   "execution_count": 175,
   "metadata": {},
   "outputs": [],
   "source": [
    "def add_channles(v):\n",
    "    return np.expand_dims(v, axis=1)\n",
    "\n",
    "X_chns_train = add_channles(X_train)\n",
    "X_chns_validation = add_channles(X_validation)"
   ]
  },
  {
   "cell_type": "markdown",
   "metadata": {},
   "source": [
    "### Truncation of data:"
   ]
  },
  {
   "cell_type": "code",
   "execution_count": 176,
   "metadata": {},
   "outputs": [],
   "source": [
    "# Optional truncation to fewer images for integration and timing testing.\n",
    "tval = 55296 # 200, 59968 (for batch_size=64), 59904 (for batch_size=128) 9984, 1024, 2048, 55296\n",
    "# tval = len(X_train)\n",
    "\n",
    "X_chns_train = X_chns_train[:tval, :, :]\n",
    "X_chns_validation = X_chns_validation[:tval, :, :]"
   ]
  },
  {
   "cell_type": "markdown",
   "metadata": {},
   "source": [
    "### Scaling between -1 and 1 - cnn-model"
   ]
  },
  {
   "cell_type": "code",
   "execution_count": 177,
   "metadata": {},
   "outputs": [],
   "source": [
    "def scale_img(v):\n",
    "    return (v - 127.5) /127.5\n",
    "\n",
    "X_chns_train = scale_img(X_chns_train)\n",
    "X_chns_validation = scale_img(X_chns_validation)"
   ]
  },
  {
   "cell_type": "code",
   "execution_count": 178,
   "metadata": {},
   "outputs": [
    {
     "name": "stdout",
     "output_type": "stream",
     "text": [
      "shapes for inputs and outputs:\n",
      "(55296, 1, 32, 32)\n",
      "(min, max) for inputs and outputs:\n",
      "-1.007843137254902 -0.9912384546552279\n"
     ]
    }
   ],
   "source": [
    "print_info(X_chns_train)"
   ]
  },
  {
   "cell_type": "markdown",
   "metadata": {},
   "source": [
    "### Set X to X_chns:"
   ]
  },
  {
   "cell_type": "code",
   "execution_count": 179,
   "metadata": {},
   "outputs": [],
   "source": [
    "X_train = X_chns_train\n",
    "X_validation = X_chns_validation"
   ]
  },
  {
   "cell_type": "code",
   "execution_count": 180,
   "metadata": {},
   "outputs": [
    {
     "name": "stdout",
     "output_type": "stream",
     "text": [
      "shapes for inputs and outputs:\n",
      "(55296, 1, 32, 32)\n",
      "(min, max) for inputs and outputs:\n",
      "-1.007843137254902 -0.9912384546552279\n"
     ]
    }
   ],
   "source": [
    "print_info(X_train)"
   ]
  },
  {
   "cell_type": "markdown",
   "metadata": {},
   "source": [
    "## Setting up experiments"
   ]
  },
  {
   "cell_type": "code",
   "execution_count": 181,
   "metadata": {},
   "outputs": [],
   "source": [
    "# Parimiters to test\n",
    "\n",
    "# resolutions = [32]\n",
    "# leanring_rate = [0.001, 0.002]\n",
    "# decay = [1e-4, 1e-3]\n",
    "# dropout = [0.2, 0.9, 0.5]\n",
    "\n",
    "resolutions = [32]\n",
    "leanring_rate = [0.001]\n",
    "decay = [5e-5]\n",
    "dropout = [0.5]\n",
    "\n",
    "configs = [{\n",
    "    'resolution': cfg[0],\n",
    "    'learning_rate': cfg[1],\n",
    "    'decay': cfg[2],\n",
    "    'dropout': cfg[3],\n",
    "    'max_epochs': 10\n",
    "    \n",
    "} for cfg in product(resolutions, leanring_rate, decay, dropout)]"
   ]
  },
  {
   "cell_type": "code",
   "execution_count": 182,
   "metadata": {},
   "outputs": [
    {
     "name": "stdout",
     "output_type": "stream",
     "text": [
      "shapes for inputs and outputs:\n",
      "(55296, 1, 32, 32)\n",
      "(min, max) for inputs and outputs:\n",
      "-1.007843137254902 -0.9912384546552279\n",
      "shapes for inputs and outputs:\n",
      "(55296, 1, 32, 32)\n",
      "(min, max) for inputs and outputs:\n",
      "-1.007843137254902 -0.9912384546552279\n"
     ]
    }
   ],
   "source": [
    "print_info(X_chns_train)\n",
    "print_info(X_train)"
   ]
  },
  {
   "cell_type": "code",
   "execution_count": null,
   "metadata": {},
   "outputs": [],
   "source": [
    "mlflow.set_experiment(\"Plant Leaf Disease\")\n",
    "\n",
    "# X_train, y_train, X_validation, y_validation = load_plant_data()\n",
    "\n",
    "for config in configs:\n",
    "    \n",
    "    # initialize model \n",
    "    mdl = model.Model(Adam(learning_rate=config['learning_rate'], decay=config['decay']),\n",
    "                      CategoricalCrossEntropyLoss())\n",
    "\n",
    "    # Config early stop \n",
    "    mdl.add_early_stop(25)\n",
    "\n",
    "    # Defining architecture \n",
    "    mdl.set_sequence([\n",
    "                ConvolutionLayer(1, 32, 3),\n",
    "                ReLU(),\n",
    "                PoolingLayer(32, 2),\n",
    "                ReLU(),\n",
    "                ConvolutionLayer(32, 16, 1),\n",
    "                ConvolutionLayer(16, 16, 3),\n",
    "                ReLU(),\n",
    "                PoolingLayer(16, 2),\n",
    "                ReLU(),\n",
    "                ConvolutionLayer(16, 8, 1),\n",
    "                ReLU(),\n",
    "                FlattenLayer(),\n",
    "                LinearLayer(8 * 7 * 7, 98),\n",
    "                ReLU(),\n",
    "                Dropout(0.5),\n",
    "                LinearLayer(98, 128),\n",
    "                ReLU(),\n",
    "                LinearLayer(128, 39),\n",
    "                Softmax()\n",
    "                    ])\n",
    "\n",
    "    with mlflow.start_run():\n",
    "        mlflow.log_param('framework', 'homebrew')\n",
    "        mlflow.log_param('data_split', '90/10')\n",
    "        mlflow.log_param('type', 'CNN')\n",
    "        mlflow.log_params(config)\n",
    "        mdl.train(X_train, y_train, epochs=config['max_epochs'], batch_size=64, log_freq=144, validation=(X_validation, y_validation))\n",
    "        "
   ]
  },
  {
   "cell_type": "markdown",
   "metadata": {},
   "source": [
    "### Display"
   ]
  },
  {
   "cell_type": "code",
   "execution_count": 47,
   "metadata": {},
   "outputs": [
    {
     "data": {
      "image/png": "[encoded data removed]",
      "text/plain": [
       "<Figure size 504x504 with 4 Axes>"
      ]
     },
     "metadata": {
      "needs_background": "light"
     },
     "output_type": "display_data"
    }
   ],
   "source": [
    "fig, ax = plt.subplots(figsize=(7.00, 7.00), ncols=2, nrows=2)\n",
    "# fig, ax = plt.subplots()\n",
    "# ax.imshow(c[0, 0, :, :], cmap=cm.gray)\n",
    "ax[0, 0].imshow(X_chns_train[int(np.random.randint(0, 200)), 0, :, :], cmap=cm.gray)\n",
    "ax[0, 1].imshow(X_chns_train[123, 0, :, :], cmap=cm.gray)\n",
    "# ax[1, 0].imshow(pool1.dinputs[0, 0, :, :], cmap=cm.gray)\n",
    "# ax[1, 1].imshow(conv1.outputs[0, 1, :, :], cmap=cm.gray)\n",
    "plt.show()"
   ]
  },
  {
   "cell_type": "code",
   "execution_count": null,
   "metadata": {},
   "outputs": [],
   "source": []
  }
 ],
 "metadata": {
  "interpreter": {
   "hash": "d53c06ab4573055b295bcdfb3b25bc2da21e5ae576a05184a9c53fc2168185ab"
  },
  "kernelspec": {
   "display_name": "Python 3.8.5 64-bit ('plant-leaf-diseases-identification-CBiGMIHu-py3.8': poetry)",
   "language": "python",
   "name": "python3"
  },
  "language_info": {
   "codemirror_mode": {
    "name": "ipython",
    "version": 3
   },
   "file_extension": ".py",
   "mimetype": "text/x-python",
   "name": "python",
   "nbconvert_exporter": "python",
   "pygments_lexer": "ipython3",
   "version": "3.9.7"
  },
  "orig_nbformat": 4
 },
 "nbformat": 4,
 "nbformat_minor": 2
}
