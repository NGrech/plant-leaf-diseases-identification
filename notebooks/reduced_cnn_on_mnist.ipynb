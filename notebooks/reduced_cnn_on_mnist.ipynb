{
 "cells": [
  {
   "cell_type": "code",
   "execution_count": 4,
   "metadata": {},
   "outputs": [],
   "source": [
    "import os\n",
    "import urllib\n",
    "import urllib.request\n",
    "import cv2\n",
    "import mlflow\n",
    "\n",
    "import numpy as np\n",
    "import matplotlib.pyplot as plt\n",
    "import matplotlib.cm as cm\n",
    "import mlflow\n",
    "\n",
    "from zipfile import ZipFile\n",
    "import sys\n",
    "# sys.path.append(r'../src')\n",
    "import importlib\n",
    "\n",
    "import model\n",
    "import layers\n",
    "import activations\n",
    "\n",
    "from utils import one_hot_encode_index\n",
    "from optimizers import Adam\n",
    "from activations import Softmax, ReLU\n",
    "from layers import Dropout, LinearLayer, ConvolutionLayer, PoolingLayer, FlattenLayer\n",
    "from loss import CategoricalCrossEntropyLoss\n",
    "\n",
    "def nsgpmnet_reloads():\n",
    "\n",
    "    importlib.reload(model)\n",
    "    importlib.reload(layers)\n",
    "    importlib.reload(activations)\n",
    "\n",
    "nsgpmnet_reloads()"
   ]
  },
  {
   "cell_type": "markdown",
   "metadata": {},
   "source": [
    "### Loading MNIST-fashion-data:"
   ]
  },
  {
   "cell_type": "code",
   "execution_count": 5,
   "metadata": {},
   "outputs": [],
   "source": [
    "# Loads a MNIST dataset\n",
    "def load_mnist_dataset(dataset, path):\n",
    "    # Scan all the directories and create a list of labels\n",
    "    labels = os.listdir(os.path.join(path, dataset))\n",
    "    # Create lists for samples and labels\n",
    "    X = []\n",
    "    y = []\n",
    "    # For each label folder\n",
    "    for label in labels:\n",
    "        # And for each image in given folder\n",
    "        for file in os.listdir(os.path.join(path, dataset, label)):\n",
    "            # Read the image\n",
    "            image = cv2.imread(os.path.join(path, dataset, label, file), cv2.IMREAD_UNCHANGED)\n",
    "            # And append it and a label to the lists\n",
    "            X.append(image)\n",
    "            y.append(label)\n",
    "    # Convert the data to proper numpy arrays and return\n",
    "    return np.array(X), np.array(y).astype('uint8')\n",
    "\n",
    "\n",
    "def create_data_mnist(path):\n",
    "    # Load both sets separately\n",
    "    X, y = load_mnist_dataset('train', path)\n",
    "    X_test, y_test = load_mnist_dataset('test', path)\n",
    "    y = one_hot_encode_index(y, 10)\n",
    "    y_test = one_hot_encode_index(y_test, 10)\n",
    "    \n",
    "    # And return all the data\n",
    "    return X, y, X_test, y_test"
   ]
  },
  {
   "cell_type": "code",
   "execution_count": 6,
   "metadata": {},
   "outputs": [],
   "source": [
    "path0 = '/Users/petermagnusson/Documents/data/courses to study/malmö universitet/3 ht2021/120p 2yrs MSc copmuter science - applied data science/course AI for data science/project/leaf/data/fashion_mnist_images'\n",
    "\n",
    "X, y, X_test, y_test = create_data_mnist(path0)\n",
    "\n",
    "y_flat = y.copy()"
   ]
  },
  {
   "cell_type": "markdown",
   "metadata": {},
   "source": [
    "### Handy print fuction:"
   ]
  },
  {
   "cell_type": "code",
   "execution_count": 7,
   "metadata": {},
   "outputs": [],
   "source": [
    "def print_info(a):\n",
    "    print('shapes for inputs and outputs:')\n",
    "    print(a.shape)\n",
    "    print('(min, max) for inputs and outputs:')\n",
    "    print(np.min(a), np.max(a))"
   ]
  },
  {
   "cell_type": "markdown",
   "metadata": {},
   "source": [
    "### Shuffle Training data - on initial loaded data:"
   ]
  },
  {
   "cell_type": "code",
   "execution_count": 8,
   "metadata": {},
   "outputs": [],
   "source": [
    "keys = np.array(range(X.shape[0]))\n",
    "np.random.shuffle(keys)\n",
    "X = X[keys]\n",
    "y = y[keys]\n",
    "y_flat = y_flat[keys]"
   ]
  },
  {
   "cell_type": "markdown",
   "metadata": {},
   "source": [
    "### Reshaping data for cnn-model: "
   ]
  },
  {
   "cell_type": "code",
   "execution_count": 9,
   "metadata": {},
   "outputs": [],
   "source": [
    "def add_channles(v):\n",
    "    return np.expand_dims(v, axis=1)\n",
    "\n",
    "X_chns = add_channles(X)\n",
    "X_chns_test = add_channles(X_test)\n",
    "\n",
    "# Optional truncation to fewer images for integration and timing testing.\n",
    "tval = 59904 # 200, 59968 (for batch_size=64), 59904 (for batch_size=128) 9984, 1024, 2048\n",
    "X_chns = X_chns[:tval, :, :]\n",
    "X_chns_test = X_chns_test[:tval, :, :]\n",
    "\n",
    "# print_info(X)\n",
    "# print_info(X_chns)\n",
    "# print_info(X_chns_test)"
   ]
  },
  {
   "cell_type": "markdown",
   "metadata": {},
   "source": [
    "### Scaling between -1 and 1 - cnn-model"
   ]
  },
  {
   "cell_type": "code",
   "execution_count": 10,
   "metadata": {},
   "outputs": [],
   "source": [
    "def scale_img(v):\n",
    "    return (v - 127.5) /127.5\n",
    "\n",
    "X_chns = scale_img(X_chns)\n",
    "X_chns_test = scale_img(X_chns_test)"
   ]
  },
  {
   "cell_type": "markdown",
   "metadata": {},
   "source": [
    "### Shuffle Training data - cnn-model - after truncation:"
   ]
  },
  {
   "cell_type": "code",
   "execution_count": null,
   "metadata": {},
   "outputs": [],
   "source": [
    "keys = np.array(range(X_chns.shape[0]))\n",
    "np.random.shuffle(keys)\n",
    "X_chns = X_chns[keys]\n",
    "y = y[keys]"
   ]
  },
  {
   "cell_type": "markdown",
   "metadata": {},
   "source": [
    "### Create a reduced cnn-model sequence:"
   ]
  },
  {
   "cell_type": "code",
   "execution_count": 11,
   "metadata": {},
   "outputs": [],
   "source": [
    "cce_loss = CategoricalCrossEntropyLoss()\n",
    "optimizer = Adam(decay=5e-5)\n",
    "my_model = model.Model(optimizer, cce_loss)\n",
    "\n",
    "my_model.set_sequence([\n",
    "                ConvolutionLayer(1, 1, 3),\n",
    "                FlattenLayer(),\n",
    "                LinearLayer(676, 128),\n",
    "                ReLU(),\n",
    "                Dropout(0.5),\n",
    "                LinearLayer(128, 128),\n",
    "                ReLU(),\n",
    "                LinearLayer(128, 10),\n",
    "                Softmax()\n",
    "            ])\n",
    "\n",
    "# Setting the model save path:\n",
    "path1 = '/Users/petermagnusson/VisualStudioCodeProjects/saved_models/model1'\n",
    "my_model.set_save_config(model_name='cnn_9_0', save_path=path1)"
   ]
  },
  {
   "cell_type": "code",
   "execution_count": null,
   "metadata": {},
   "outputs": [],
   "source": [
    "print_info(X)\n",
    "print_info(X_chns)"
   ]
  },
  {
   "cell_type": "markdown",
   "metadata": {},
   "source": [
    "### Train with the reduced cnn-model, optional monitoring with MLflow:"
   ]
  },
  {
   "cell_type": "code",
   "execution_count": 13,
   "metadata": {},
   "outputs": [
    {
     "name": "stdout",
     "output_type": "stream",
     "text": [
      "=== Epoch: 1 ===\n",
      "Step: 0/468, accuracy0.094, loss2.302, learning rate 0.0010000 \n",
      "Step: 100/468, accuracy0.672, loss0.879, learning rate 0.0009950 \n",
      "Step: 200/468, accuracy0.703, loss0.920, learning rate 0.0009901 \n",
      "Step: 300/468, accuracy0.766, loss0.840, learning rate 0.0009852 \n",
      "Step: 400/468, accuracy0.797, loss0.495, learning rate 0.0009804 \n",
      "Step: 467/468, accuracy0.703, loss0.882, learning rate 0.0009772 \n",
      "Epoch: 1/10, accuracy0.697, loss0.964, learning rate 0.001\n",
      "--Validation--\n",
      "Validation : Accuracy: 0.825, Loss: 0.494\n",
      "=== Epoch: 2 ===\n",
      "Step: 0/468, accuracy0.820, loss0.503, learning rate 0.0009771 \n",
      "Step: 100/468, accuracy0.680, loss1.772, learning rate 0.0009724 \n",
      "Step: 200/468, accuracy0.641, loss0.948, learning rate 0.0009677 \n",
      "Step: 300/468, accuracy0.695, loss0.877, learning rate 0.0009630 \n",
      "Step: 400/468, accuracy0.797, loss0.583, learning rate 0.0009584 \n",
      "Step: 467/468, accuracy0.688, loss1.043, learning rate 0.0009553 \n",
      "Epoch: 2/10, accuracy0.770, loss0.695, learning rate 0.001\n",
      "--Validation--\n",
      "New best model ... saving\n",
      "Validation : Accuracy: 0.832, Loss: 0.477\n",
      "=== Epoch: 3 ===\n",
      "Step: 0/468, accuracy0.852, loss0.434, learning rate 0.0009553 \n",
      "Step: 100/468, accuracy0.805, loss0.674, learning rate 0.0009508 \n",
      "Step: 200/468, accuracy0.766, loss0.537, learning rate 0.0009463 \n",
      "Step: 300/468, accuracy0.773, loss0.627, learning rate 0.0009418 \n",
      "Step: 400/468, accuracy0.828, loss0.488, learning rate 0.0009374 \n",
      "Step: 467/468, accuracy0.734, loss0.704, learning rate 0.0009344 \n",
      "Epoch: 3/10, accuracy0.814, loss0.528, learning rate 0.001\n",
      "--Validation--\n",
      "New best model ... saving\n",
      "Validation : Accuracy: 0.847, Loss: 0.423\n",
      "=== Epoch: 4 ===\n",
      "Step: 0/468, accuracy0.844, loss0.382, learning rate 0.0009344 \n",
      "Step: 100/468, accuracy0.844, loss0.488, learning rate 0.0009301 \n",
      "Step: 200/468, accuracy0.750, loss0.561, learning rate 0.0009258 \n",
      "Step: 300/468, accuracy0.797, loss0.557, learning rate 0.0009215 \n",
      "Step: 400/468, accuracy0.836, loss0.447, learning rate 0.0009173 \n",
      "Step: 467/468, accuracy0.766, loss0.623, learning rate 0.0009145 \n",
      "Epoch: 4/10, accuracy0.825, loss0.485, learning rate 0.001\n",
      "--Validation--\n",
      "New best model ... saving\n",
      "Validation : Accuracy: 0.851, Loss: 0.416\n",
      "=== Epoch: 5 ===\n",
      "Step: 0/468, accuracy0.852, loss0.382, learning rate 0.0009144 \n",
      "Step: 100/468, accuracy0.820, loss0.558, learning rate 0.0009102 \n",
      "Step: 200/468, accuracy0.703, loss0.914, learning rate 0.0009061 \n",
      "Step: 300/468, accuracy0.797, loss0.646, learning rate 0.0009020 \n",
      "Step: 400/468, accuracy0.836, loss0.450, learning rate 0.0008980 \n",
      "Step: 467/468, accuracy0.750, loss0.649, learning rate 0.0008953 \n",
      "Epoch: 5/10, accuracy0.787, loss0.740, learning rate 0.001\n",
      "--Validation--\n",
      "Validation : Accuracy: 0.834, Loss: 0.470\n",
      "=== Epoch: 6 ===\n",
      "Step: 0/468, accuracy0.875, loss0.488, learning rate 0.0008953 \n",
      "Step: 100/468, accuracy0.820, loss0.609, learning rate 0.0008913 \n",
      "Step: 200/468, accuracy0.805, loss0.491, learning rate 0.0008873 \n",
      "Step: 300/468, accuracy0.789, loss0.556, learning rate 0.0008834 \n",
      "Step: 400/468, accuracy0.820, loss0.463, learning rate 0.0008795 \n",
      "Step: 467/468, accuracy0.758, loss0.720, learning rate 0.0008769 \n",
      "Epoch: 6/10, accuracy0.823, loss0.506, learning rate 0.001\n",
      "--Validation--\n",
      "Validation : Accuracy: 0.854, Loss: 0.423\n",
      "=== Epoch: 7 ===\n",
      "Step: 0/468, accuracy0.844, loss0.390, learning rate 0.0008769 \n",
      "Step: 100/468, accuracy0.828, loss0.472, learning rate 0.0008731 \n",
      "Step: 200/468, accuracy0.820, loss0.468, learning rate 0.0008693 \n",
      "Step: 300/468, accuracy0.836, loss0.415, learning rate 0.0008655 \n",
      "Step: 400/468, accuracy0.836, loss0.442, learning rate 0.0008618 \n",
      "Step: 467/468, accuracy0.773, loss0.613, learning rate 0.0008593 \n",
      "Epoch: 7/10, accuracy0.837, loss0.459, learning rate 0.001\n",
      "--Validation--\n",
      "New best model ... saving\n",
      "Validation : Accuracy: 0.852, Loss: 0.411\n",
      "=== Epoch: 8 ===\n",
      "Step: 0/468, accuracy0.828, loss0.377, learning rate 0.0008593 \n",
      "Step: 100/468, accuracy0.828, loss0.556, learning rate 0.0008556 \n",
      "Step: 200/468, accuracy0.844, loss0.517, learning rate 0.0008519 \n",
      "Step: 300/468, accuracy0.789, loss0.484, learning rate 0.0008483 \n",
      "Step: 400/468, accuracy0.859, loss0.348, learning rate 0.0008447 \n",
      "Step: 467/468, accuracy0.758, loss0.592, learning rate 0.0008424 \n",
      "Epoch: 8/10, accuracy0.847, loss0.427, learning rate 0.001\n",
      "--Validation--\n",
      "New best model ... saving\n",
      "Validation : Accuracy: 0.857, Loss: 0.396\n",
      "=== Epoch: 9 ===\n",
      "Step: 0/468, accuracy0.906, loss0.325, learning rate 0.0008423 \n",
      "Step: 100/468, accuracy0.883, loss0.365, learning rate 0.0008388 \n",
      "Step: 200/468, accuracy0.883, loss0.403, learning rate 0.0008353 \n",
      "Step: 300/468, accuracy0.820, loss0.438, learning rate 0.0008318 \n",
      "Step: 400/468, accuracy0.844, loss0.372, learning rate 0.0008284 \n",
      "Step: 467/468, accuracy0.703, loss0.648, learning rate 0.0008261 \n",
      "Epoch: 9/10, accuracy0.851, loss0.410, learning rate 0.001\n",
      "--Validation--\n",
      "Validation : Accuracy: 0.859, Loss: 0.402\n",
      "=== Epoch: 10 ===\n",
      "Step: 0/468, accuracy0.844, loss0.368, learning rate 0.0008260 \n",
      "Step: 100/468, accuracy0.883, loss0.386, learning rate 0.0008226 \n",
      "Step: 200/468, accuracy0.859, loss0.384, learning rate 0.0008193 \n",
      "Step: 300/468, accuracy0.820, loss0.511, learning rate 0.0008159 \n",
      "Step: 400/468, accuracy0.875, loss0.343, learning rate 0.0008126 \n",
      "Step: 467/468, accuracy0.773, loss0.633, learning rate 0.0008104 \n",
      "Epoch: 10/10, accuracy0.856, loss0.397, learning rate 0.001\n",
      "--Validation--\n",
      "New best model ... saving\n",
      "Validation : Accuracy: 0.863, Loss: 0.391\n",
      "Took 77.69471001625061\n"
     ]
    }
   ],
   "source": [
    "import time\n",
    "\n",
    "mlflow.set_experiment(experiment_name='MNIST Fashion reduced conv')\n",
    "\n",
    "t0 = time.time()\n",
    "\n",
    "# my_model.train(X_chns, y, epochs=1, batch_size=8, log_freq=8, validation=(X_chns_test, y_test))\n",
    "my_model.train(X_chns, y, epochs=10, batch_size=128, log_freq=100, validation=(X_chns_test, y_test))\n",
    "\n",
    "t_d0 = time.time() - t0\n",
    "print('Took {}'.format(t_d0))\n",
    "\n",
    "# with mlflow.start_run():\n",
    "#     my_model.train(X_chns, y, epochs=10, batch_size=128, log_freq=100, validation=(X_chns_test, y_test))"
   ]
  },
  {
   "cell_type": "markdown",
   "metadata": {},
   "source": [
    "### Validate the cnn-model with the test-set:"
   ]
  },
  {
   "cell_type": "code",
   "execution_count": 24,
   "metadata": {},
   "outputs": [
    {
     "name": "stdout",
     "output_type": "stream",
     "text": [
      "Validation : Accuracy: 0.863, Loss: 0.394\n"
     ]
    }
   ],
   "source": [
    "my_model.evaluate(X_chns_test, y_test, 128)"
   ]
  },
  {
   "cell_type": "markdown",
   "metadata": {},
   "source": [
    "### Display"
   ]
  },
  {
   "cell_type": "code",
   "execution_count": 14,
   "metadata": {},
   "outputs": [
    {
     "data": {
      "image/png": "[encoded data removed]",
      "text/plain": [
       "<Figure size 504x504 with 4 Axes>"
      ]
     },
     "metadata": {
      "needs_background": "light"
     },
     "output_type": "display_data"
    }
   ],
   "source": [
    "fig, ax = plt.subplots(figsize=(7.00, 7.00), ncols=2, nrows=2)\n",
    "# fig, ax = plt.subplots()\n",
    "# ax.imshow(c[0, 0, :, :], cmap=cm.gray)\n",
    "ax[0, 0].imshow(X_chns[int(np.random.randint(0, 200)), 0, :, :], cmap=cm.gray)\n",
    "ax[0, 1].imshow(X_chns[123, 0, :, :], cmap=cm.gray)\n",
    "# ax[1, 0].imshow(pool1.dinputs[0, 0, :, :], cmap=cm.gray)\n",
    "# ax[1, 1].imshow(conv1.outputs[0, 1, :, :], cmap=cm.gray)\n",
    "plt.show()"
   ]
  },
  {
   "cell_type": "markdown",
   "metadata": {},
   "source": [
    "### Retreive org. data and flatten for ffnn model:"
   ]
  },
  {
   "cell_type": "code",
   "execution_count": 26,
   "metadata": {},
   "outputs": [],
   "source": [
    "def vectorize(v):\n",
    "    return v.reshape(v.shape[0], -1)\n",
    "\n",
    "X_flat = vectorize(X)\n",
    "X_flat_test = vectorize(X_test)\n",
    "\n",
    "# print_info(X)\n",
    "# print_info(X_flat)"
   ]
  },
  {
   "cell_type": "markdown",
   "metadata": {},
   "source": [
    "### Trucate for ffnn model:"
   ]
  },
  {
   "cell_type": "code",
   "execution_count": null,
   "metadata": {},
   "outputs": [],
   "source": [
    "# Truncate to fewer images for integration and timing testing.\n",
    "tval = 9984 # 200, 59968, 9984, 1024, 2048\n",
    "X_flat = X_flat[:tval, :]\n",
    "X_flat_test = X_flat_test[:tval, :]"
   ]
  },
  {
   "cell_type": "markdown",
   "metadata": {},
   "source": [
    "### Scaling between -1 and 1 - ffnn model"
   ]
  },
  {
   "cell_type": "code",
   "execution_count": 27,
   "metadata": {},
   "outputs": [],
   "source": [
    "def scale_img(v):\n",
    "    return (v - 127.5) /127.5\n",
    "\n",
    "X_flat = scale_img(X_flat)\n",
    "X_flat_test = scale_img(X_flat_test)"
   ]
  },
  {
   "cell_type": "markdown",
   "metadata": {},
   "source": [
    "### Shuffle training data - ffnn model:"
   ]
  },
  {
   "cell_type": "code",
   "execution_count": null,
   "metadata": {},
   "outputs": [],
   "source": [
    "keys = np.array(range(X_flat.shape[0]))\n",
    "np.random.shuffle(keys)\n",
    "X_flat = X_flat[keys]\n",
    "y_flat = y_flat[keys]\n",
    "\n",
    "# print_info(X)\n",
    "# print_info(X_flat)\n",
    "# print_info(y_flat)"
   ]
  },
  {
   "cell_type": "markdown",
   "metadata": {},
   "source": [
    "### Create a sequence for ffnn model:"
   ]
  },
  {
   "cell_type": "code",
   "execution_count": 29,
   "metadata": {},
   "outputs": [],
   "source": [
    "cce_loss = CategoricalCrossEntropyLoss()\n",
    "optimizer = Adam(decay=5e-5)\n",
    "\n",
    "naive_model = model.Model(optimizer, cce_loss)\n",
    "\n",
    "naive_model.set_sequence([\n",
    "                LinearLayer(X_flat.shape[1], 128),\n",
    "                ReLU(),\n",
    "                Dropout(0.5),\n",
    "                LinearLayer(128, 128),\n",
    "                ReLU(),\n",
    "                LinearLayer(128, 10),\n",
    "                Softmax()\n",
    "            ])\n",
    "\n",
    "# Setting the model save path:\n",
    "path1 = '/Users/petermagnusson/VisualStudioCodeProjects/saved_models/model0'\n",
    "naive_model.set_save_config(model_name='ffnn_0', save_path=path1)"
   ]
  },
  {
   "cell_type": "markdown",
   "metadata": {},
   "source": [
    "### Train with the ffnn model, optional monitoring with MLflow:"
   ]
  },
  {
   "cell_type": "code",
   "execution_count": 30,
   "metadata": {},
   "outputs": [
    {
     "name": "stdout",
     "output_type": "stream",
     "text": [
      "=== Epoch: 1 ===\n",
      "Step: 0/469, accuracy0.086, loss3.606, learning rate 0.0010000 \n",
      "Step: 100/469, accuracy0.750, loss0.704, learning rate 0.0009950 \n",
      "Step: 200/469, accuracy0.758, loss0.575, learning rate 0.0009901 \n",
      "Step: 300/469, accuracy0.781, loss0.550, learning rate 0.0009852 \n",
      "Step: 400/469, accuracy0.781, loss0.538, learning rate 0.0009804 \n",
      "Step: 468/469, accuracy0.771, loss0.604, learning rate 0.0009771 \n",
      "Epoch: 1/10, accuracy0.743, loss0.713, learning rate 0.001\n",
      "--Validation--\n",
      "Validation : Accuracy: 0.826, Loss: 0.478\n",
      "=== Epoch: 2 ===\n",
      "Step: 0/469, accuracy0.789, loss0.516, learning rate 0.0009771 \n",
      "Step: 100/469, accuracy0.812, loss0.483, learning rate 0.0009723 \n",
      "Step: 200/469, accuracy0.789, loss0.468, learning rate 0.0009676 \n",
      "Step: 300/469, accuracy0.789, loss0.532, learning rate 0.0009630 \n",
      "Step: 400/469, accuracy0.820, loss0.421, learning rate 0.0009584 \n",
      "Step: 468/469, accuracy0.792, loss0.592, learning rate 0.0009552 \n",
      "Epoch: 2/10, accuracy0.814, loss0.515, learning rate 0.001\n",
      "--Validation--\n",
      "New best model ... saving\n",
      "Validation : Accuracy: 0.835, Loss: 0.448\n",
      "=== Epoch: 3 ===\n",
      "Step: 0/469, accuracy0.812, loss0.483, learning rate 0.0009552 \n",
      "Step: 100/469, accuracy0.844, loss0.390, learning rate 0.0009507 \n",
      "Step: 200/469, accuracy0.844, loss0.420, learning rate 0.0009462 \n",
      "Step: 300/469, accuracy0.836, loss0.421, learning rate 0.0009417 \n",
      "Step: 400/469, accuracy0.836, loss0.363, learning rate 0.0009373 \n",
      "Step: 468/469, accuracy0.792, loss0.549, learning rate 0.0009343 \n",
      "Epoch: 3/10, accuracy0.827, loss0.476, learning rate 0.001\n",
      "--Validation--\n",
      "New best model ... saving\n",
      "Validation : Accuracy: 0.835, Loss: 0.432\n",
      "=== Epoch: 4 ===\n",
      "Step: 0/469, accuracy0.828, loss0.465, learning rate 0.0009343 \n",
      "Step: 100/469, accuracy0.820, loss0.450, learning rate 0.0009299 \n",
      "Step: 200/469, accuracy0.875, loss0.351, learning rate 0.0009256 \n",
      "Step: 300/469, accuracy0.867, loss0.413, learning rate 0.0009214 \n",
      "Step: 400/469, accuracy0.836, loss0.400, learning rate 0.0009171 \n",
      "Step: 468/469, accuracy0.833, loss0.492, learning rate 0.0009143 \n",
      "Epoch: 4/10, accuracy0.837, loss0.453, learning rate 0.001\n",
      "--Validation--\n",
      "New best model ... saving\n",
      "Validation : Accuracy: 0.844, Loss: 0.421\n",
      "=== Epoch: 5 ===\n",
      "Step: 0/469, accuracy0.828, loss0.484, learning rate 0.0009142 \n",
      "Step: 100/469, accuracy0.844, loss0.392, learning rate 0.0009101 \n",
      "Step: 200/469, accuracy0.906, loss0.302, learning rate 0.0009060 \n",
      "Step: 300/469, accuracy0.844, loss0.422, learning rate 0.0009019 \n",
      "Step: 400/469, accuracy0.828, loss0.407, learning rate 0.0008978 \n",
      "Step: 468/469, accuracy0.823, loss0.401, learning rate 0.0008951 \n",
      "Epoch: 5/10, accuracy0.845, loss0.432, learning rate 0.001\n",
      "--Validation--\n",
      "New best model ... saving\n",
      "Validation : Accuracy: 0.846, Loss: 0.407\n",
      "=== Epoch: 6 ===\n",
      "Step: 0/469, accuracy0.820, loss0.474, learning rate 0.0008951 \n",
      "Step: 100/469, accuracy0.883, loss0.364, learning rate 0.0008911 \n",
      "Step: 200/469, accuracy0.922, loss0.305, learning rate 0.0008871 \n",
      "Step: 300/469, accuracy0.844, loss0.401, learning rate 0.0008832 \n",
      "Step: 400/469, accuracy0.898, loss0.306, learning rate 0.0008793 \n",
      "Step: 468/469, accuracy0.812, loss0.462, learning rate 0.0008767 \n",
      "Epoch: 6/10, accuracy0.847, loss0.418, learning rate 0.001\n",
      "--Validation--\n",
      "New best model ... saving\n",
      "Validation : Accuracy: 0.856, Loss: 0.399\n",
      "=== Epoch: 7 ===\n",
      "Step: 0/469, accuracy0.844, loss0.405, learning rate 0.0008767 \n",
      "Step: 100/469, accuracy0.875, loss0.438, learning rate 0.0008728 \n",
      "Step: 200/469, accuracy0.906, loss0.273, learning rate 0.0008690 \n",
      "Step: 300/469, accuracy0.836, loss0.481, learning rate 0.0008653 \n",
      "Step: 400/469, accuracy0.898, loss0.368, learning rate 0.0008615 \n",
      "Step: 468/469, accuracy0.833, loss0.397, learning rate 0.0008590 \n",
      "Epoch: 7/10, accuracy0.853, loss0.408, learning rate 0.001\n",
      "--Validation--\n",
      "New best model ... saving\n",
      "Validation : Accuracy: 0.861, Loss: 0.383\n",
      "=== Epoch: 8 ===\n",
      "Step: 0/469, accuracy0.844, loss0.422, learning rate 0.0008590 \n",
      "Step: 100/469, accuracy0.875, loss0.362, learning rate 0.0008553 \n",
      "Step: 200/469, accuracy0.891, loss0.282, learning rate 0.0008517 \n",
      "Step: 300/469, accuracy0.867, loss0.422, learning rate 0.0008481 \n",
      "Step: 400/469, accuracy0.883, loss0.320, learning rate 0.0008445 \n",
      "Step: 468/469, accuracy0.802, loss0.394, learning rate 0.0008421 \n",
      "Epoch: 8/10, accuracy0.856, loss0.394, learning rate 0.001\n",
      "--Validation--\n",
      "New best model ... saving\n",
      "Validation : Accuracy: 0.862, Loss: 0.378\n",
      "=== Epoch: 9 ===\n",
      "Step: 0/469, accuracy0.844, loss0.394, learning rate 0.0008420 \n",
      "Step: 100/469, accuracy0.883, loss0.376, learning rate 0.0008385 \n",
      "Step: 200/469, accuracy0.891, loss0.310, learning rate 0.0008350 \n",
      "Step: 300/469, accuracy0.883, loss0.402, learning rate 0.0008315 \n",
      "Step: 400/469, accuracy0.898, loss0.291, learning rate 0.0008281 \n",
      "Step: 468/469, accuracy0.854, loss0.337, learning rate 0.0008258 \n",
      "Epoch: 9/10, accuracy0.856, loss0.390, learning rate 0.001\n",
      "--Validation--\n",
      "New best model ... saving\n",
      "Validation : Accuracy: 0.868, Loss: 0.366\n",
      "=== Epoch: 10 ===\n",
      "Step: 0/469, accuracy0.836, loss0.390, learning rate 0.0008257 \n",
      "Step: 100/469, accuracy0.891, loss0.377, learning rate 0.0008223 \n",
      "Step: 200/469, accuracy0.891, loss0.268, learning rate 0.0008190 \n",
      "Step: 300/469, accuracy0.867, loss0.362, learning rate 0.0008156 \n",
      "Step: 400/469, accuracy0.875, loss0.285, learning rate 0.0008123 \n",
      "Step: 468/469, accuracy0.844, loss0.387, learning rate 0.0008101 \n",
      "Epoch: 10/10, accuracy0.859, loss0.380, learning rate 0.001\n",
      "--Validation--\n",
      "Validation : Accuracy: 0.863, Loss: 0.381\n",
      "Took 17.058357000350952\n"
     ]
    }
   ],
   "source": [
    "import time\n",
    "\n",
    "mlflow.set_experiment(experiment_name='Naive Model')\n",
    "\n",
    "t0 = time.time()\n",
    "\n",
    "# naive_model.train(X_flat, y_flat, epochs=1, batch_size=8, log_freq=32, validation=(X_flat_test, y_test))\n",
    "naive_model.train(X_flat, y_flat, epochs=10, batch_size=128, log_freq=100, validation=(X_flat_test, y_test))\n",
    "\n",
    "t_d0 = time.time() - t0\n",
    "print('Took {}'.format(t_d0))\n",
    "\n",
    "# with mlflow.start_run():\n",
    "#     naive_model.train(X_flat, y_flat, epochs=10, batch_size=128, log_freq=100, validation=(X_flat_test, y_test))\n"
   ]
  }
 ],
 "metadata": {
  "interpreter": {
   "hash": "d53c06ab4573055b295bcdfb3b25bc2da21e5ae576a05184a9c53fc2168185ab"
  },
  "kernelspec": {
   "display_name": "Python 3.8.12 64-bit ('plant-leaf-diseases-identification-CBiGMIHu-py3.8': poetry)",
   "language": "python",
   "name": "python3"
  },
  "language_info": {
   "codemirror_mode": {
    "name": "ipython",
    "version": 3
   },
   "file_extension": ".py",
   "mimetype": "text/x-python",
   "name": "python",
   "nbconvert_exporter": "python",
   "pygments_lexer": "ipython3",
   "version": "3.9.7"
  },
  "orig_nbformat": 4
 },
 "nbformat": 4,
 "nbformat_minor": 2
}
